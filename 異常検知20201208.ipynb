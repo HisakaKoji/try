{
  "nbformat": 4,
  "nbformat_minor": 0,
  "metadata": {
    "colab": {
      "name": "異常検知.ipynb",
      "provenance": [],
      "collapsed_sections": [],
      "toc_visible": true,
      "include_colab_link": true
    },
    "kernelspec": {
      "name": "python3",
      "display_name": "Python 3"
    }
  },
  "cells": [
    {
      "cell_type": "markdown",
      "metadata": {
        "id": "view-in-github",
        "colab_type": "text"
      },
      "source": [
        "<a href=\"https://colab.research.google.com/github/HisakaKoji/try/blob/main/%E7%95%B0%E5%B8%B8%E6%A4%9C%E7%9F%A520201208.ipynb\" target=\"_parent\"><img src=\"https://colab.research.google.com/assets/colab-badge.svg\" alt=\"Open In Colab\"/></a>"
      ]
    },
    {
      "cell_type": "code",
      "metadata": {
        "id": "pVUt4BnFgodZ",
        "colab": {
          "base_uri": "https://localhost:8080/"
        },
        "outputId": "e5ddd240-0123-4431-85d2-5729ae2ea3fd"
      },
      "source": [
        "!pip install statsmodels"
      ],
      "execution_count": 1,
      "outputs": [
        {
          "output_type": "stream",
          "text": [
            "Requirement already satisfied: statsmodels in /usr/local/lib/python3.6/dist-packages (0.10.2)\n",
            "Requirement already satisfied: pandas>=0.19 in /usr/local/lib/python3.6/dist-packages (from statsmodels) (1.1.4)\n",
            "Requirement already satisfied: patsy>=0.4.0 in /usr/local/lib/python3.6/dist-packages (from statsmodels) (0.5.1)\n",
            "Requirement already satisfied: scipy>=0.18 in /usr/local/lib/python3.6/dist-packages (from statsmodels) (1.4.1)\n",
            "Requirement already satisfied: numpy>=1.11 in /usr/local/lib/python3.6/dist-packages (from statsmodels) (1.18.5)\n",
            "Requirement already satisfied: python-dateutil>=2.7.3 in /usr/local/lib/python3.6/dist-packages (from pandas>=0.19->statsmodels) (2.8.1)\n",
            "Requirement already satisfied: pytz>=2017.2 in /usr/local/lib/python3.6/dist-packages (from pandas>=0.19->statsmodels) (2018.9)\n",
            "Requirement already satisfied: six in /usr/local/lib/python3.6/dist-packages (from patsy>=0.4.0->statsmodels) (1.15.0)\n"
          ],
          "name": "stdout"
        }
      ]
    },
    {
      "cell_type": "code",
      "metadata": {
        "id": "eYfVjGDPMDPZ",
        "outputId": "1dae3560-2b2a-47a1-c536-643c63e72d72",
        "colab": {
          "base_uri": "https://localhost:8080/"
        }
      },
      "source": [
        "data"
      ],
      "execution_count": 14,
      "outputs": [
        {
          "output_type": "execute_result",
          "data": {
            "text/plain": [
              "array([0.71071287, 0.66834056, 0.73812193, ..., 1.46932814, 1.32250084,\n",
              "       1.42936329])"
            ]
          },
          "metadata": {
            "tags": []
          },
          "execution_count": 14
        }
      ]
    },
    {
      "cell_type": "code",
      "metadata": {
        "id": "VmkISnoORsYz"
      },
      "source": [
        "import pandas as pd"
      ],
      "execution_count": 18,
      "outputs": []
    },
    {
      "cell_type": "code",
      "metadata": {
        "id": "1vhxT5QdRvHo",
        "outputId": "78d7a2bc-f374-4509-8a43-ef1742de499f",
        "colab": {
          "base_uri": "https://localhost:8080/"
        }
      },
      "source": [
        "df = pd.read_csv('query_result_2020-12-08T07_33_02.953778Z.csv')"
      ],
      "execution_count": 19,
      "outputs": [
        {
          "output_type": "stream",
          "text": [
            "/usr/local/lib/python3.6/dist-packages/IPython/core/interactiveshell.py:2718: DtypeWarning: Columns (27,28,29,30,31,32) have mixed types.Specify dtype option on import or set low_memory=False.\n",
            "  interactivity=interactivity, compiler=compiler, result=result)\n"
          ],
          "name": "stderr"
        }
      ]
    },
    {
      "cell_type": "code",
      "metadata": {
        "id": "8TG6MR3sSENh"
      },
      "source": [
        "df['Jst Tm'] = pd.to_datetime(df['Jst Tm'])"
      ],
      "execution_count": 27,
      "outputs": []
    },
    {
      "cell_type": "code",
      "metadata": {
        "id": "5dqx2do4SsBb"
      },
      "source": [
        "df['date'] = df['Jst Tm'].dt.date"
      ],
      "execution_count": 28,
      "outputs": []
    },
    {
      "cell_type": "code",
      "metadata": {
        "id": "PFi4gt1xWG_V"
      },
      "source": [
        "collect = df.groupby(['date']).size()"
      ],
      "execution_count": 56,
      "outputs": []
    },
    {
      "cell_type": "code",
      "metadata": {
        "id": "tA5h5vQfWczE",
        "outputId": "45f44e6b-36ce-4e8f-d4c0-b50b51e839d9",
        "colab": {
          "base_uri": "https://localhost:8080/"
        }
      },
      "source": [
        "collect.values"
      ],
      "execution_count": 67,
      "outputs": [
        {
          "output_type": "execute_result",
          "data": {
            "text/plain": [
              "array([ 291,   35,  440,  369,  389,  474,  378,   46,  334,  386,  436,\n",
              "        379,  383,  376,  400,  329,  379,  391,  397,  350,  295,  340,\n",
              "        331,  323,  404,  451,  455, 1014,  582,  471,  516,  670,  732,\n",
              "        631,  603,  515,  511,  623,  532,  484,  478,  806,  522,  472,\n",
              "        482,  481,  486,  568,  516,  674,  617,  614,  557,  472,  361,\n",
              "        521, 1041,  508,  452,  515,   77])"
            ]
          },
          "metadata": {
            "tags": []
          },
          "execution_count": 67
        }
      ]
    },
    {
      "cell_type": "code",
      "metadata": {
        "id": "OJpo19oyWnS1",
        "outputId": "106dff8f-0e51-4592-e9e0-a552466735ec",
        "colab": {
          "base_uri": "https://localhost:8080/"
        }
      },
      "source": [
        "data"
      ],
      "execution_count": 69,
      "outputs": [
        {
          "output_type": "execute_result",
          "data": {
            "text/plain": [
              "array([ 291,   35,  440,  369,  389,  474,  378,   46,  334,  386,  436,\n",
              "        379,  383,  376,  400,  329,  379,  391,  397,  350,  295,  340,\n",
              "        331,  323,  404,  451,  455, 1014,  582,  471,  516,  670,  732,\n",
              "        631,  603,  515,  511,  623,  532,  484,  478,  806,  522,  472,\n",
              "        482,  481,  486,  568,  516,  674,  617,  614,  557,  472,  361,\n",
              "        521, 1041,  508,  452,  515,   77])"
            ]
          },
          "metadata": {
            "tags": []
          },
          "execution_count": 69
        }
      ]
    },
    {
      "cell_type": "code",
      "metadata": {
        "id": "XCtf45q4XcY4",
        "outputId": "bc2964d6-776c-4cf6-9eb6-576a23dd46ec",
        "colab": {
          "base_uri": "https://localhost:8080/"
        }
      },
      "source": [
        "yt"
      ],
      "execution_count": 71,
      "outputs": [
        {
          "output_type": "execute_result",
          "data": {
            "text/plain": [
              "array([479.54608788, 440.6356782 , 361.63553109, 395.52835859,\n",
              "       453.32756469, 397.6517719 , 413.09062658, 487.99480664,\n",
              "       454.41882727, 417.51239768, 391.81491211, 417.72995367,\n",
              "       415.14031628, 419.7165363 , 407.24503098, 430.72778154,\n",
              "       433.15881266, 583.68246303, 428.51745742, 540.12243673,\n",
              "       466.67059798, 653.40201411, 674.52011746, 619.01321706,\n",
              "       556.04461244, 546.35729245, 639.52728598, 506.43838191,\n",
              "       544.24723895, 552.0299458 , 516.4482756 , 599.55875462,\n",
              "       477.08699301, 533.49758963, 444.68166598, 554.4945676 ,\n",
              "       560.80376464, 519.23625772, 485.63988268, 558.15512554,\n",
              "       540.37444693, 498.94138458, 514.44798187, 544.80973256,\n",
              "       518.49673925, 569.07077403, 681.2606329 , 484.74112024,\n",
              "       548.49374495, 409.31251028])"
            ]
          },
          "metadata": {
            "tags": []
          },
          "execution_count": 71
        }
      ]
    },
    {
      "cell_type": "code",
      "metadata": {
        "id": "R3JXWt8y20RC",
        "colab": {
          "base_uri": "https://localhost:8080/"
        },
        "outputId": "d4049dd3-c5d6-4220-c441-011fd1e488ba"
      },
      "source": [
        "import numpy as np\n",
        "import math\n",
        "import matplotlib.pyplot as plt\n",
        "from statsmodels.tsa.ar_model import AR\n",
        "\n",
        "data  = np.concatenate(\n",
        "    [np.random.normal(0.7, 0.05, 300),\n",
        "     np.random.normal(1.5, 0.05, 300),\n",
        "     np.random.normal(0.6, 0.05, 300),\n",
        "     np.random.normal(1.4, 0.05, 300)])\n",
        "data = collect.values\n",
        "model = AR(data)\n",
        "result = model.fit()\n",
        "sigma = result.sigma2\n",
        "yt = result.predict()\n",
        "omicron = 0.0005\n",
        "score = []\n",
        "for i in range(len(yt)):\n",
        "    print(data[i]-yt[i])\n",
        "    print(-0.5*(data[i]-yt[i])**2)\n",
        "    print(math.exp(-0.000005*(data[i]-yt[i])**2))\n",
        "    score.append(-math.log(1/(2*math.pi**0.5*sigma**0.5)*math.exp(-0.0005*(data[i]-yt[i])**2)))\n",
        "# 平滑化\n",
        "window_size = 15\n",
        "zt = []\n",
        "s = []\n",
        "for i in range(0, len(score)-window_size):\n",
        "    for t in range(1, window_size+1):\n",
        "        s.append(score[i+t]/window_size)\n",
        "    zt.append(sum(s)/window_size)\n",
        "    s = []"
      ],
      "execution_count": 76,
      "outputs": [
        {
          "output_type": "stream",
          "text": [
            "-188.54608787830398\n",
            "-17774.813627106563\n",
            "0.8371532454765428\n",
            "-405.63567819874623\n",
            "-82270.15171387841\n",
            "0.4392434265746088\n",
            "78.36446890970183\n",
            "-3070.4949937498122\n",
            "0.9697616591072313\n",
            "-26.528358586206878\n",
            "-351.87690463918807\n",
            "0.996487414566381\n",
            "-64.32756468571552\n",
            "-2069.0177891974568\n",
            "0.9795223952556212\n",
            "76.34822809680406\n",
            "-2914.5259667608107\n",
            "0.971275367081995\n",
            "-35.09062657624452\n",
            "-615.676036756719\n",
            "0.9938621536452893\n",
            "-441.9948066448229\n",
            "-97679.7045504972\n",
            "0.37651513042232737\n",
            "-120.4188272739836\n",
            "-7250.346981020748\n",
            "0.9300625195142559\n",
            "-31.512397681725645\n",
            "-496.5156038256139\n",
            "0.9950471499734721\n",
            "44.18508789233721\n",
            "-976.1609960267821\n",
            "0.9902858799027805\n",
            "-38.7299536729372\n",
            "-750.0046557539308\n",
            "0.9925280086094755\n",
            "-32.140316283016375\n",
            "-516.4999653861638\n",
            "0.9948483160218331\n",
            "-43.716536301777296\n",
            "-955.5677731123061\n",
            "0.9904898326810238\n",
            "-7.245030980730007\n",
            "-26.245236955868805\n",
            "0.9997375820680516\n",
            "-101.72778153752586\n",
            "-5174.2707682732935\n",
            "0.9495731532920537\n",
            "-54.15881266197789\n",
            "-1466.5884944776083\n",
            "0.9854411353247258\n",
            "-192.6824630294916\n",
            "-18563.2657795557\n",
            "0.8305786455401462\n",
            "-31.51745742370582\n",
            "-496.6750612275546\n",
            "0.9950455632984038\n",
            "-190.12243673456965\n",
            "-18073.27047494522\n",
            "0.8346584291155618\n",
            "-171.67059797729888\n",
            "-14735.397104941687\n",
            "0.8629884504182243\n",
            "-313.4020141099444\n",
            "-49110.41122408489\n",
            "0.6119503591614794\n",
            "-343.520117459987\n",
            "-59003.035549861626\n",
            "0.5543104581087739\n",
            "-296.0132170584543\n",
            "-43811.91233664779\n",
            "0.6452489140560917\n",
            "-152.04461243506705\n",
            "-11558.782085264873\n",
            "0.8908423342682948\n",
            "-95.35729245457162\n",
            "-4546.506612133351\n",
            "0.9555529831608675\n",
            "-184.5272859847139\n",
            "-17025.159636442197\n",
            "0.8434525802957977\n",
            "507.56161808658214\n",
            "-128809.39807733473\n",
            "0.2757959548295821\n",
            "37.75276105007674\n",
            "-712.6354834520957\n",
            "0.992898977420827\n",
            "-81.02994580235338\n",
            "-3282.926058366163\n",
            "0.9677037706616008\n",
            "-0.4482755960043505\n",
            "-0.10047550498652784\n",
            "0.9999989952454549\n",
            "70.44124538131678\n",
            "-2480.984525435441\n",
            "0.9754953894707291\n",
            "254.91300698561525\n",
            "-32490.320565224167\n",
            "0.7225972935908468\n",
            "97.5024103717983\n",
            "-4753.360014155281\n",
            "0.9535784322240354\n",
            "158.31833402477838\n",
            "-12532.34744419065\n",
            "0.8822114835569167\n",
            "-39.49456759724251\n",
            "-779.9104348465789\n",
            "0.9922312297550143\n",
            "-49.80376464088954\n",
            "-1240.2074862025595\n",
            "0.9876745139215158\n",
            "103.76374227605265\n",
            "-5383.457105565539\n",
            "0.9475888521597919\n",
            "46.3601173193876\n",
            "-1074.6302389336909\n",
            "0.9893112328367727\n",
            "-74.15512553504482\n",
            "-2749.4913215591278\n",
            "0.9728796313698076\n",
            "-62.37444692965357\n",
            "-1945.285814890085\n",
            "0.9807351277682739\n",
            "307.058615416981\n",
            "-47142.496650896726\n",
            "0.6241122952238638\n",
            "7.552018134547552\n",
            "-28.516488952267544\n",
            "0.9997148757661198\n",
            "-72.80973256462369\n",
            "-2650.6285780660114\n",
            "0.973841922459574\n",
            "-36.49673924804608\n",
            "-666.0059878699337\n",
            "0.9933620691659203\n",
            "-88.07077403259416\n",
            "-3878.230619350131\n",
            "0.9619600991097658\n",
            "-195.26063289997205\n",
            "-19063.357380248824\n",
            "0.8264353602425359\n",
            "83.2588797574648\n",
            "-3466.0205292339906\n",
            "0.9659335796186279\n",
            "-32.49374494950996\n",
            "-527.921730421902\n",
            "0.9947346932737003\n",
            "264.68748972400573\n",
            "-35029.73360819782\n",
            "0.7044785916703077\n"
          ],
          "name": "stdout"
        }
      ]
    },
    {
      "cell_type": "code",
      "metadata": {
        "id": "cJjbKDnK8W20",
        "colab": {
          "base_uri": "https://localhost:8080/",
          "height": 284
        },
        "outputId": "ea60859d-880f-4d25-e09d-e0770f17d227"
      },
      "source": [
        "fig = plt.figure()\n",
        "ax = fig.add_subplot(111)\n",
        "ax.plot(range(window_size, len(zt)+window_size), zt, label=\"score\")\n",
        "ax2 = ax.twinx()\n",
        "ax2.plot(data, alpha=0.3, label=\"observation\")"
      ],
      "execution_count": 77,
      "outputs": [
        {
          "output_type": "execute_result",
          "data": {
            "text/plain": [
              "[<matplotlib.lines.Line2D at 0x7fded392d390>]"
            ]
          },
          "metadata": {
            "tags": []
          },
          "execution_count": 77
        },
        {
          "output_type": "display_data",
          "data": {
            "image/png": "[encoded data removed]",
            "text/plain": [
              "<Figure size 432x288 with 2 Axes>"
            ]
          },
          "metadata": {
            "tags": [],
            "needs_background": "light"
          }
        }
      ]
    },
    {
      "cell_type": "code",
      "metadata": {
        "id": "g7ppUr7PFvC7",
        "colab": {
          "base_uri": "https://localhost:8080/"
        },
        "outputId": "cf4f6d74-0d30-4ea4-9d54-f237b037520a"
      },
      "source": [
        "flag = False\n",
        "for i in range(len(zt)):\n",
        "    if zt[i] > 1 and flag == False:\n",
        "        print(\"異常値:\",zt[i], \"異常発生点:\" , i)\n",
        "        flag = True\n",
        "    if zt[i] < 0.1:\n",
        "        flag = False"
      ],
      "execution_count": 78,
      "outputs": [
        {
          "output_type": "stream",
          "text": [
            "異常値: 1.3272713278287 異常発生点: 0\n"
          ],
          "name": "stdout"
        }
      ]
    },
    {
      "cell_type": "markdown",
      "metadata": {
        "id": "7LTb9wSPRPh4"
      },
      "source": [
        "# 新しいセクション"
      ]
    },
    {
      "cell_type": "markdown",
      "metadata": {
        "id": "5bHApo-QDJhg"
      },
      "source": [
        "# 第二段階学習も実装"
      ]
    },
    {
      "cell_type": "code",
      "metadata": {
        "id": "MjSKlMqjlH8l"
      },
      "source": [
        "#from sklearn.preprocessing import StandardScaler\n",
        "#scaler = StandardScaler()\n",
        "#zt = scaler.fit_transform(np.array(zt).reshape(-1, 1))"
      ],
      "execution_count": 5,
      "outputs": []
    },
    {
      "cell_type": "code",
      "metadata": {
        "id": "ps4qMbFwW0S1"
      },
      "source": [
        "model2 = AR(zt)"
      ],
      "execution_count": 79,
      "outputs": []
    },
    {
      "cell_type": "code",
      "metadata": {
        "id": "p6tT8eiFDS88"
      },
      "source": [
        "result2 = model2.fit()\n",
        "sigma2 = result2.sigma2*10\n",
        "yt2 = result2.predict()"
      ],
      "execution_count": 80,
      "outputs": []
    },
    {
      "cell_type": "code",
      "metadata": {
        "id": "Dyh4QWgSllea",
        "colab": {
          "base_uri": "https://localhost:8080/"
        },
        "outputId": "1660e230-bb25-4b82-e452-ecf08120aec8"
      },
      "source": [
        "yt2"
      ],
      "execution_count": 81,
      "outputs": [
        {
          "output_type": "execute_result",
          "data": {
            "text/plain": [
              "array([1.421688  , 1.60614528, 1.62441616, 1.68906202, 1.97773894,\n",
              "       2.0337619 , 2.01656515, 2.10205997, 2.12356625, 2.22595309,\n",
              "       2.13687858, 2.08858115, 1.82323794, 1.69984916, 1.5453841 ,\n",
              "       1.39239965, 1.30606887, 1.20364322, 1.20847977, 0.83060146,\n",
              "       0.87290856, 0.91735741, 1.01778225, 1.09081433, 0.90939221,\n",
              "       1.00246668])"
            ]
          },
          "metadata": {
            "tags": []
          },
          "execution_count": 81
        }
      ]
    },
    {
      "cell_type": "code",
      "metadata": {
        "id": "ov3Pc-eADhST"
      },
      "source": [
        "score2 = []\n",
        "for i in range(len(yt2)):\n",
        "    score2.append(-math.log((1/(2*math.pi**0.5*sigma2**0.5))*math.exp(-0.5*(zt[i]-yt2[i])**2)))\n",
        "# 平滑化\n",
        "window_size2 = 50\n",
        "zt2 = []\n",
        "s2 = []\n",
        "for i in range(0, len(score2)-window_size2):\n",
        "    for t in range(1, window_size2+1):\n",
        "        s2.append(score2[i+t]/window_size2)\n",
        "    zt2.append(sum(s2)/window_size2)\n",
        "    s2 = []"
      ],
      "execution_count": 82,
      "outputs": []
    },
    {
      "cell_type": "code",
      "metadata": {
        "id": "-WAE9H6cEoyY",
        "colab": {
          "base_uri": "https://localhost:8080/",
          "height": 281
        },
        "outputId": "e5e00215-d700-491c-8d93-e0cf3937e756"
      },
      "source": [
        "fig = plt.figure()\n",
        "ax = fig.add_subplot(111)\n",
        "ax.plot(range(window_size+window_size2, len(zt2)+window_size+window_size2), zt2, label=\"score\")\n",
        "ax2 = ax.twinx()\n",
        "ax2.plot(data, alpha=0.3, label=\"observation\")"
      ],
      "execution_count": 83,
      "outputs": [
        {
          "output_type": "execute_result",
          "data": {
            "text/plain": [
              "[<matplotlib.lines.Line2D at 0x7fded385d7f0>]"
            ]
          },
          "metadata": {
            "tags": []
          },
          "execution_count": 83
        },
        {
          "output_type": "display_data",
          "data": {
            "image/png": "[encoded data removed]",
            "text/plain": [
              "<Figure size 432x288 with 2 Axes>"
            ]
          },
          "metadata": {
            "tags": [],
            "needs_background": "light"
          }
        }
      ]
    },
    {
      "cell_type": "markdown",
      "metadata": {
        "id": "SADMy-HoPVbz"
      },
      "source": [
        "# 本家のChangeFinder"
      ]
    },
    {
      "cell_type": "code",
      "metadata": {
        "id": "q03ZwsJdNbDI",
        "colab": {
          "base_uri": "https://localhost:8080/"
        },
        "outputId": "f6d9e629-364a-454a-b0a1-5a97ad46c211"
      },
      "source": [
        "!pip install changefinder"
      ],
      "execution_count": 84,
      "outputs": [
        {
          "output_type": "stream",
          "text": [
            "Requirement already satisfied: changefinder in /usr/local/lib/python3.6/dist-packages (0.3)\n",
            "Requirement already satisfied: nose in /usr/local/lib/python3.6/dist-packages (from changefinder) (1.3.7)\n",
            "Requirement already satisfied: statsmodels in /usr/local/lib/python3.6/dist-packages (from changefinder) (0.10.2)\n",
            "Requirement already satisfied: numpy in /usr/local/lib/python3.6/dist-packages (from changefinder) (1.18.5)\n",
            "Requirement already satisfied: scipy in /usr/local/lib/python3.6/dist-packages (from changefinder) (1.4.1)\n",
            "Requirement already satisfied: patsy>=0.4.0 in /usr/local/lib/python3.6/dist-packages (from statsmodels->changefinder) (0.5.1)\n",
            "Requirement already satisfied: pandas>=0.19 in /usr/local/lib/python3.6/dist-packages (from statsmodels->changefinder) (1.1.4)\n",
            "Requirement already satisfied: six in /usr/local/lib/python3.6/dist-packages (from patsy>=0.4.0->statsmodels->changefinder) (1.15.0)\n",
            "Requirement already satisfied: python-dateutil>=2.7.3 in /usr/local/lib/python3.6/dist-packages (from pandas>=0.19->statsmodels->changefinder) (2.8.1)\n",
            "Requirement already satisfied: pytz>=2017.2 in /usr/local/lib/python3.6/dist-packages (from pandas>=0.19->statsmodels->changefinder) (2018.9)\n"
          ],
          "name": "stdout"
        }
      ]
    },
    {
      "cell_type": "code",
      "metadata": {
        "id": "N9og4uRqNenb"
      },
      "source": [
        "import changefinder\n",
        "\n",
        "cf = changefinder.ChangeFinder(r=0.03, order=1, smooth=7)\n",
        "result3 = np.empty(len(data))\n",
        "for i, d in enumerate(data):\n",
        "    result3[i] = cf.update(d)"
      ],
      "execution_count": 85,
      "outputs": []
    },
    {
      "cell_type": "code",
      "metadata": {
        "id": "qFy__J6lOJtZ",
        "colab": {
          "base_uri": "https://localhost:8080/",
          "height": 281
        },
        "outputId": "77bc0a35-a477-43e3-8790-9bc3cf55b9e9"
      },
      "source": [
        "fig = plt.figure()\n",
        "ax = fig.add_subplot(111)\n",
        "ax.plot(result3, label=\"score\")\n",
        "ax2 = ax.twinx()\n",
        "ax2.plot(data, alpha=0.3, label=\"observation\")"
      ],
      "execution_count": 86,
      "outputs": [
        {
          "output_type": "execute_result",
          "data": {
            "text/plain": [
              "[<matplotlib.lines.Line2D at 0x7fded3786be0>]"
            ]
          },
          "metadata": {
            "tags": []
          },
          "execution_count": 86
        },
        {
          "output_type": "display_data",
          "data": {
            "image/png": "[encoded data removed]",
            "text/plain": [
              "<Figure size 432x288 with 2 Axes>"
            ]
          },
          "metadata": {
            "tags": [],
            "needs_background": "light"
          }
        }
      ]
    },
    {
      "cell_type": "code",
      "metadata": {
        "id": "veYJoyU8Ogc2",
        "colab": {
          "base_uri": "https://localhost:8080/",
          "height": 281
        },
        "outputId": "ba904afa-3690-4de5-bfba-dbab6b397080"
      },
      "source": [
        "fig = plt.figure()\n",
        "ax = fig.add_subplot(111)\n",
        "ax.plot(data, label=\"score\")\n"
      ],
      "execution_count": 87,
      "outputs": [
        {
          "output_type": "execute_result",
          "data": {
            "text/plain": [
              "[<matplotlib.lines.Line2D at 0x7fded37174a8>]"
            ]
          },
          "metadata": {
            "tags": []
          },
          "execution_count": 87
        },
        {
          "output_type": "display_data",
          "data": {
            "image/png": "[encoded data removed]",
            "text/plain": [
              "<Figure size 432x288 with 1 Axes>"
            ]
          },
          "metadata": {
            "tags": [],
            "needs_background": "light"
          }
        }
      ]
    }
  ]
}