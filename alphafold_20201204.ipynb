{
  "nbformat": 4,
  "nbformat_minor": 0,
  "metadata": {
    "colab": {
      "name": "Untitled36.ipynb",
      "provenance": [],
      "machine_shape": "hm",
      "include_colab_link": true
    },
    "kernelspec": {
      "name": "python3",
      "display_name": "Python 3"
    },
    "accelerator": "TPU"
  },
  "cells": [
    {
      "cell_type": "markdown",
      "metadata": {
        "id": "view-in-github",
        "colab_type": "text"
      },
      "source": [
        "<a href=\"https://colab.research.google.com/github/HisakaKoji/try/blob/main/alphafold_20201204.ipynb\" target=\"_parent\"><img src=\"https://colab.research.google.com/assets/colab-badge.svg\" alt=\"Open In Colab\"/></a>"
      ]
    },
    {
      "cell_type": "code",
      "metadata": {
        "id": "v5ac5dyaRK_H"
      },
      "source": [
        "!git clone https://github.com/deepmind/deepmind-research.git"
      ],
      "execution_count": null,
      "outputs": []
    },
    {
      "cell_type": "code",
      "metadata": {
        "id": "WWgOTTfERZ3u"
      },
      "source": [
        "!apt-get install python3-venv"
      ],
      "execution_count": null,
      "outputs": []
    },
    {
      "cell_type": "code",
      "metadata": {
        "id": "O8z9cCG9Rb7k"
      },
      "source": [
        "!python3 -m venv alphafold_venv"
      ],
      "execution_count": null,
      "outputs": []
    },
    {
      "cell_type": "code",
      "metadata": {
        "id": "_2Nco1KNRfVW"
      },
      "source": [
        "!source alphafold_venv/bin/activate"
      ],
      "execution_count": null,
      "outputs": []
    },
    {
      "cell_type": "code",
      "metadata": {
        "id": "MQE72N-VRjD2"
      },
      "source": [
        "%cd deepmind-research"
      ],
      "execution_count": null,
      "outputs": []
    },
    {
      "cell_type": "code",
      "metadata": {
        "id": "QYbgaQM-SCJl"
      },
      "source": [
        "%cd alphafold_casp13/"
      ],
      "execution_count": null,
      "outputs": []
    },
    {
      "cell_type": "code",
      "metadata": {
        "id": "CofplzKGRsSN"
      },
      "source": [
        "!pip install -r alphafold_casp13/requirements.txt"
      ],
      "execution_count": null,
      "outputs": []
    },
    {
      "cell_type": "code",
      "metadata": {
        "id": "ccYsTiJ0SW_1"
      },
      "source": [
        "!wget http://bit.ly/alphafold-casp13-data"
      ],
      "execution_count": null,
      "outputs": []
    },
    {
      "cell_type": "code",
      "metadata": {
        "id": "12zfkh9oSZws"
      },
      "source": [
        "!unzip alphafold-casp13-data"
      ],
      "execution_count": null,
      "outputs": []
    },
    {
      "cell_type": "code",
      "metadata": {
        "id": "GEf1kCVLUsOs"
      },
      "source": [
        "!wget http://bit.ly/alphafold-casp13-weights"
      ],
      "execution_count": null,
      "outputs": []
    },
    {
      "cell_type": "code",
      "metadata": {
        "id": "UWsTU9PVYMCc"
      },
      "source": [
        "!unzip alphafold-casyyp13-weights"
      ],
      "execution_count": null,
      "outputs": []
    },
    {
      "cell_type": "code",
      "metadata": {
        "id": "ST1NrekJZOsH"
      },
      "source": [
        "%cd .."
      ],
      "execution_count": null,
      "outputs": []
    },
    {
      "cell_type": "code",
      "metadata": {
        "id": "nsSyOaCbZBs0"
      },
      "source": [
        "!./alphafold_casp13/run_eval.sh"
      ],
      "execution_count": null,
      "outputs": []
    }
  ]
}