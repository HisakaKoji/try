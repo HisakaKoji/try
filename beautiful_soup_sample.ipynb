{
  "nbformat": 4,
  "nbformat_minor": 0,
  "metadata": {
    "colab": {
      "name": "Untitled42.ipynb",
      "provenance": [],
      "authorship_tag": "ABX9TyNwUz19wfRC73aJIhCSAIqS",
      "include_colab_link": true
    },
    "kernelspec": {
      "name": "python3",
      "display_name": "Python 3"
    },
    "language_info": {
      "name": "python"
    }
  },
  "cells": [
    {
      "cell_type": "markdown",
      "metadata": {
        "id": "view-in-github",
        "colab_type": "text"
      },
      "source": [
        "<a href=\"https://colab.research.google.com/github/HisakaKoji/try/blob/main/beautiful_soup_sample.ipynb\" target=\"_parent\"><img src=\"https://colab.research.google.com/assets/colab-badge.svg\" alt=\"Open In Colab\"/></a>"
      ]
    },
    {
      "cell_type": "code",
      "metadata": {
        "colab": {
          "base_uri": "https://localhost:8080/"
        },
        "id": "EtC6xKqNKVAT",
        "outputId": "aab4857c-1ce9-42d6-8962-fa48970fc45a"
      },
      "source": [
        "from google.colab import drive\n",
        "drive.mount('/content/drive')"
      ],
      "execution_count": 3,
      "outputs": [
        {
          "output_type": "stream",
          "text": [
            "Mounted at /content/drive\n"
          ],
          "name": "stdout"
        }
      ]
    },
    {
      "cell_type": "code",
      "metadata": {
        "id": "cmj9M7VCJvQ-"
      },
      "source": [
        "from bs4 import BeautifulSoup\n",
        "import requests\n",
        "import csv\n",
        "import pandas as pd\n",
        "\n",
        "url = \"https://safa-dayo.com/\"\n",
        "r = requests.get(url)\n",
        "soup = BeautifulSoup(r.text, \"lxml\")\n",
        "\n",
        "list_item= soup.find_all(\"li\")\n",
        "\n",
        "columns = ['name', 'description']\n",
        "df = pd.DataFrame(columns=columns)\n",
        "\n",
        "for item in list_item:\n",
        "  if item.find(\"h4\") is not None:      \n",
        "    name = item.find(\"h4\").text\n",
        "    description = item.find(\"p\").text.strip()\n",
        "    se = pd.Series([name, description], columns)\n",
        "    df = df.append(se, columns)\n",
        "\n",
        "with open(\"/content/drive/My Drive/test/test_dataframe.csv\", mode=\"w\") as f:\n",
        "  df.to_csv(f, index=False)"
      ],
      "execution_count": 4,
      "outputs": []
    }
  ]
}