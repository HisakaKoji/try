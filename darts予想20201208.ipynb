{
  "nbformat": 4,
  "nbformat_minor": 0,
  "metadata": {
    "colab": {
      "name": "異常検知.ipynb",
      "provenance": [],
      "collapsed_sections": [],
      "toc_visible": true,
      "include_colab_link": true
    },
    "kernelspec": {
      "name": "python3",
      "display_name": "Python 3"
    }
  },
  "cells": [
    {
      "cell_type": "markdown",
      "metadata": {
        "id": "view-in-github",
        "colab_type": "text"
      },
      "source": [
        "<a href=\"https://colab.research.google.com/github/HisakaKoji/try/blob/main/darts%E4%BA%88%E6%83%B320201208.ipynb\" target=\"_parent\"><img src=\"https://colab.research.google.com/assets/colab-badge.svg\" alt=\"Open In Colab\"/></a>"
      ]
    },
    {
      "cell_type": "code",
      "metadata": {
        "id": "pVUt4BnFgodZ",
        "colab": {
          "base_uri": "https://localhost:8080/"
        },
        "outputId": "e5ddd240-0123-4431-85d2-5729ae2ea3fd"
      },
      "source": [
        "!pip install statsmodels"
      ],
      "execution_count": 1,
      "outputs": [
        {
          "output_type": "stream",
          "text": [
            "Requirement already satisfied: statsmodels in /usr/local/lib/python3.6/dist-packages (0.10.2)\n",
            "Requirement already satisfied: pandas>=0.19 in /usr/local/lib/python3.6/dist-packages (from statsmodels) (1.1.4)\n",
            "Requirement already satisfied: patsy>=0.4.0 in /usr/local/lib/python3.6/dist-packages (from statsmodels) (0.5.1)\n",
            "Requirement already satisfied: scipy>=0.18 in /usr/local/lib/python3.6/dist-packages (from statsmodels) (1.4.1)\n",
            "Requirement already satisfied: numpy>=1.11 in /usr/local/lib/python3.6/dist-packages (from statsmodels) (1.18.5)\n",
            "Requirement already satisfied: python-dateutil>=2.7.3 in /usr/local/lib/python3.6/dist-packages (from pandas>=0.19->statsmodels) (2.8.1)\n",
            "Requirement already satisfied: pytz>=2017.2 in /usr/local/lib/python3.6/dist-packages (from pandas>=0.19->statsmodels) (2018.9)\n",
            "Requirement already satisfied: six in /usr/local/lib/python3.6/dist-packages (from patsy>=0.4.0->statsmodels) (1.15.0)\n"
          ],
          "name": "stdout"
        }
      ]
    },
    {
      "cell_type": "code",
      "metadata": {
        "id": "VmkISnoORsYz"
      },
      "source": [
        "import pandas as pd"
      ],
      "execution_count": 8,
      "outputs": []
    },
    {
      "cell_type": "code",
      "metadata": {
        "colab": {
          "base_uri": "https://localhost:8080/"
        },
        "id": "1vhxT5QdRvHo",
        "outputId": "cbbbdcd2-b57d-41f3-a5f6-d125e8cd23da"
      },
      "source": [
        "df = pd.read_csv('query_result_2020-12-08T07_33_02.953778Z.csv')"
      ],
      "execution_count": 9,
      "outputs": [
        {
          "output_type": "stream",
          "text": [
            "/usr/local/lib/python3.6/dist-packages/IPython/core/interactiveshell.py:3063: DtypeWarning:\n",
            "\n",
            "Columns (27,28,29,30,31,32) have mixed types.Specify dtype option on import or set low_memory=False.\n",
            "\n"
          ],
          "name": "stderr"
        }
      ]
    },
    {
      "cell_type": "code",
      "metadata": {
        "id": "8TG6MR3sSENh"
      },
      "source": [
        "df['Jst Tm'] = pd.to_datetime(df['Jst Tm'])"
      ],
      "execution_count": 11,
      "outputs": []
    },
    {
      "cell_type": "code",
      "metadata": {
        "id": "5dqx2do4SsBb"
      },
      "source": [
        "df['date'] = df['Jst Tm'].dt.date"
      ],
      "execution_count": 12,
      "outputs": []
    },
    {
      "cell_type": "code",
      "metadata": {
        "id": "w4PmxKwtbxWs"
      },
      "source": [
        "test = df[(df['date'] > pd.to_datetime('2020-10-01')) & (df['date'] < pd.to_datetime('2020-11-01'))]"
      ],
      "execution_count": 19,
      "outputs": []
    },
    {
      "cell_type": "code",
      "metadata": {
        "id": "PFi4gt1xWG_V"
      },
      "source": [
        "collect = df.groupby(['date']).size()"
      ],
      "execution_count": 123,
      "outputs": []
    },
    {
      "cell_type": "code",
      "metadata": {
        "colab": {
          "base_uri": "https://localhost:8080/"
        },
        "id": "tA5h5vQfWczE",
        "outputId": "ab2a6c83-4529-47c1-a7b5-6d7db4dd4f75"
      },
      "source": [
        "collect.values"
      ],
      "execution_count": 124,
      "outputs": [
        {
          "output_type": "execute_result",
          "data": {
            "text/plain": [
              "array([ 291,   35,  440,  369,  389,  474,  378,   46,  334,  386,  436,\n",
              "        379,  383,  376,  400,  329,  379,  391,  397,  350,  295,  340,\n",
              "        331,  323,  404,  451,  455, 1014,  582,  471,  516,  670,  732,\n",
              "        631,  603,  515,  511,  623,  532,  484,  478,  806,  522,  472,\n",
              "        482,  481,  486,  568,  516,  674,  617,  614,  557,  472,  361,\n",
              "        521, 1041,  508,  452,  515,   77])"
            ]
          },
          "metadata": {
            "tags": []
          },
          "execution_count": 124
        }
      ]
    },
    {
      "cell_type": "code",
      "metadata": {
        "id": "GW-KUBT_fbqh"
      },
      "source": [
        "import statsmodels.api as sm\n"
      ],
      "execution_count": 145,
      "outputs": []
    },
    {
      "cell_type": "code",
      "metadata": {
        "id": "LKdVYFc9fc9w"
      },
      "source": [
        "\n",
        "# 単位根検定(ADF検定)\n",
        "adf_result = sm.tsa.stattools.adfuller(collect.values)\n"
      ],
      "execution_count": 146,
      "outputs": []
    },
    {
      "cell_type": "code",
      "metadata": {
        "id": "wMKSVueSfhsB",
        "outputId": "7c74aa1f-14c9-478f-cd2c-47e7e9fe76d4",
        "colab": {
          "base_uri": "https://localhost:8080/"
        }
      },
      "source": [
        "adf_result"
      ],
      "execution_count": 147,
      "outputs": [
        {
          "output_type": "execute_result",
          "data": {
            "text/plain": [
              "(-4.679629302865759,\n",
              " 9.188882636930977e-05,\n",
              " 0,\n",
              " 60,\n",
              " {'1%': -3.5443688564814813,\n",
              "  '10%': -2.5931902777777776,\n",
              "  '5%': -2.9110731481481484},\n",
              " 637.0071212982273)"
            ]
          },
          "metadata": {
            "tags": []
          },
          "execution_count": 147
        }
      ]
    },
    {
      "cell_type": "code",
      "metadata": {
        "id": "VWLjXODOj0Vw"
      },
      "source": [
        "stat = adf_result[0]     # 統計量\n",
        "pvalue = adf_result[1] "
      ],
      "execution_count": 149,
      "outputs": []
    },
    {
      "cell_type": "code",
      "metadata": {
        "id": "Q8SWpS3UnhFh",
        "outputId": "b1292f33-6f9f-4762-a517-09a2031ac525",
        "colab": {
          "base_uri": "https://localhost:8080/",
          "height": 1000
        }
      },
      "source": [
        "!pip install u8darts"
      ],
      "execution_count": 151,
      "outputs": [
        {
          "output_type": "stream",
          "text": [
            "Collecting u8darts\n",
            "\u001b[?25l  Downloading https://files.pythonhosted.org/packages/d5/71/9fc05b693088e70e24aa5eb49f59c53ac40eaba3192906cdce293f6339e3/u8darts-0.5.0-py3-none-any.whl (129kB)\n",
            "\u001b[K     |████████████████████████████████| 133kB 9.2MB/s \n",
            "\u001b[?25hRequirement already satisfied: matplotlib==3.2.2 in /usr/local/lib/python3.6/dist-packages (from u8darts) (3.2.2)\n",
            "Collecting ipython==7.15.0\n",
            "\u001b[?25l  Downloading https://files.pythonhosted.org/packages/aa/e8/47fda10c3ab103d9d4a667b40da9afd542c4e50aeb00c861b4eee5bb4e8f/ipython-7.15.0-py3-none-any.whl (783kB)\n",
            "\u001b[K     |████████████████████████████████| 788kB 14.2MB/s \n",
            "\u001b[?25hCollecting scikit-learn==0.23.2\n",
            "\u001b[?25l  Downloading https://files.pythonhosted.org/packages/5c/a1/273def87037a7fb010512bbc5901c31cfddfca8080bc63b42b26e3cc55b3/scikit_learn-0.23.2-cp36-cp36m-manylinux1_x86_64.whl (6.8MB)\n",
            "\u001b[K     |████████████████████████████████| 6.8MB 22.9MB/s \n",
            "\u001b[?25hCollecting numpy==1.19.0\n",
            "\u001b[?25l  Downloading https://files.pythonhosted.org/packages/93/0b/71ae818646c1a80fbe6776d41f480649523ed31243f1f34d9d7e41d70195/numpy-1.19.0-cp36-cp36m-manylinux2010_x86_64.whl (14.6MB)\n",
            "\u001b[K     |████████████████████████████████| 14.6MB 31.9MB/s \n",
            "\u001b[?25hCollecting scipy==1.5.0\n",
            "\u001b[?25l  Downloading https://files.pythonhosted.org/packages/06/20/d4410683e4d416a11ebc60138f6d925f571ffcfcc3794baf78fff982c98d/scipy-1.5.0-cp36-cp36m-manylinux1_x86_64.whl (25.9MB)\n",
            "\u001b[K     |████████████████████████████████| 25.9MB 129kB/s \n",
            "\u001b[?25hCollecting tqdm==4.46.1\n",
            "\u001b[?25l  Downloading https://files.pythonhosted.org/packages/f3/76/4697ce203a3d42b2ead61127b35e5fcc26bba9a35c03b32a2bd342a4c869/tqdm-4.46.1-py2.py3-none-any.whl (63kB)\n",
            "\u001b[K     |████████████████████████████████| 71kB 8.8MB/s \n",
            "\u001b[?25hCollecting statsmodels==0.11.1\n",
            "\u001b[?25l  Downloading https://files.pythonhosted.org/packages/cb/83/540fd83238a18abe6c2d280fa8e489ac5fcefa1f370f0ca1acd16ae1b860/statsmodels-0.11.1-cp36-cp36m-manylinux1_x86_64.whl (8.7MB)\n",
            "\u001b[K     |████████████████████████████████| 8.7MB 10.1MB/s \n",
            "\u001b[?25hCollecting pandas==1.1.0\n",
            "\u001b[?25l  Downloading https://files.pythonhosted.org/packages/a7/f7/2adca20a7fa71b6a32f823bbd83992adeceab1d8bf72992bb7a55c69c19a/pandas-1.1.0-cp36-cp36m-manylinux1_x86_64.whl (10.5MB)\n",
            "\u001b[K     |████████████████████████████████| 10.5MB 22.9MB/s \n",
            "\u001b[?25hCollecting holidays==0.10.2\n",
            "\u001b[?25l  Downloading https://files.pythonhosted.org/packages/0a/95/73efcf821449709def494400d497aac620a3caeb83af932d874559030ced/holidays-0.10.2.tar.gz (110kB)\n",
            "\u001b[K     |████████████████████████████████| 112kB 46.9MB/s \n",
            "\u001b[?25hRequirement already satisfied: pyparsing!=2.0.4,!=2.1.2,!=2.1.6,>=2.0.1 in /usr/local/lib/python3.6/dist-packages (from matplotlib==3.2.2->u8darts) (2.4.7)\n",
            "Requirement already satisfied: kiwisolver>=1.0.1 in /usr/local/lib/python3.6/dist-packages (from matplotlib==3.2.2->u8darts) (1.3.1)\n",
            "Requirement already satisfied: python-dateutil>=2.1 in /usr/local/lib/python3.6/dist-packages (from matplotlib==3.2.2->u8darts) (2.8.1)\n",
            "Requirement already satisfied: cycler>=0.10 in /usr/local/lib/python3.6/dist-packages (from matplotlib==3.2.2->u8darts) (0.10.0)\n",
            "Requirement already satisfied: backcall in /usr/local/lib/python3.6/dist-packages (from ipython==7.15.0->u8darts) (0.2.0)\n",
            "Requirement already satisfied: pygments in /usr/local/lib/python3.6/dist-packages (from ipython==7.15.0->u8darts) (2.6.1)\n",
            "Requirement already satisfied: decorator in /usr/local/lib/python3.6/dist-packages (from ipython==7.15.0->u8darts) (4.4.2)\n",
            "Requirement already satisfied: pexpect; sys_platform != \"win32\" in /usr/local/lib/python3.6/dist-packages (from ipython==7.15.0->u8darts) (4.8.0)\n",
            "Requirement already satisfied: setuptools>=18.5 in /usr/local/lib/python3.6/dist-packages (from ipython==7.15.0->u8darts) (50.3.2)\n",
            "Collecting prompt-toolkit!=3.0.0,!=3.0.1,<3.1.0,>=2.0.0\n",
            "\u001b[?25l  Downloading https://files.pythonhosted.org/packages/8a/aa/198e6a857e83ea8b711a6ae0c37717c0eb1b23ff52e3732a644fcd389cb3/prompt_toolkit-3.0.8-py3-none-any.whl (355kB)\n",
            "\u001b[K     |████████████████████████████████| 358kB 36.8MB/s \n",
            "\u001b[?25hRequirement already satisfied: jedi>=0.10 in /usr/local/lib/python3.6/dist-packages (from ipython==7.15.0->u8darts) (0.17.2)\n",
            "Requirement already satisfied: traitlets>=4.2 in /usr/local/lib/python3.6/dist-packages (from ipython==7.15.0->u8darts) (4.3.3)\n",
            "Requirement already satisfied: pickleshare in /usr/local/lib/python3.6/dist-packages (from ipython==7.15.0->u8darts) (0.7.5)\n",
            "Collecting threadpoolctl>=2.0.0\n",
            "  Downloading https://files.pythonhosted.org/packages/f7/12/ec3f2e203afa394a149911729357aa48affc59c20e2c1c8297a60f33f133/threadpoolctl-2.1.0-py3-none-any.whl\n",
            "Requirement already satisfied: joblib>=0.11 in /usr/local/lib/python3.6/dist-packages (from scikit-learn==0.23.2->u8darts) (0.17.0)\n",
            "Requirement already satisfied: patsy>=0.5 in /usr/local/lib/python3.6/dist-packages (from statsmodels==0.11.1->u8darts) (0.5.1)\n",
            "Requirement already satisfied: pytz>=2017.2 in /usr/local/lib/python3.6/dist-packages (from pandas==1.1.0->u8darts) (2018.9)\n",
            "Requirement already satisfied: six in /usr/local/lib/python3.6/dist-packages (from holidays==0.10.2->u8darts) (1.15.0)\n",
            "Requirement already satisfied: convertdate in /usr/local/lib/python3.6/dist-packages (from holidays==0.10.2->u8darts) (2.3.0)\n",
            "Requirement already satisfied: korean_lunar_calendar in /usr/local/lib/python3.6/dist-packages (from holidays==0.10.2->u8darts) (0.2.1)\n",
            "Requirement already satisfied: ptyprocess>=0.5 in /usr/local/lib/python3.6/dist-packages (from pexpect; sys_platform != \"win32\"->ipython==7.15.0->u8darts) (0.6.0)\n",
            "Requirement already satisfied: wcwidth in /usr/local/lib/python3.6/dist-packages (from prompt-toolkit!=3.0.0,!=3.0.1,<3.1.0,>=2.0.0->ipython==7.15.0->u8darts) (0.2.5)\n",
            "Requirement already satisfied: parso<0.8.0,>=0.7.0 in /usr/local/lib/python3.6/dist-packages (from jedi>=0.10->ipython==7.15.0->u8darts) (0.7.1)\n",
            "Requirement already satisfied: ipython-genutils in /usr/local/lib/python3.6/dist-packages (from traitlets>=4.2->ipython==7.15.0->u8darts) (0.2.0)\n",
            "Requirement already satisfied: pymeeus<=1,>=0.3.6 in /usr/local/lib/python3.6/dist-packages (from convertdate->holidays==0.10.2->u8darts) (0.3.7)\n",
            "Building wheels for collected packages: holidays\n",
            "  Building wheel for holidays (setup.py) ... \u001b[?25l\u001b[?25hdone\n",
            "  Created wheel for holidays: filename=holidays-0.10.2-cp36-none-any.whl size=111560 sha256=c06d450c80a0b4c8b22f7144ee79f96c12496ac355959ca4eb0460ba120322b7\n",
            "  Stored in directory: /root/.cache/pip/wheels/68/55/29/95836cc75cbf85e6b7382e3e569613d6c050fcbe38d776ea64\n",
            "Successfully built holidays\n",
            "\u001b[31mERROR: tensorflow 2.3.0 has requirement numpy<1.19.0,>=1.16.0, but you'll have numpy 1.19.0 which is incompatible.\u001b[0m\n",
            "\u001b[31mERROR: tensorflow 2.3.0 has requirement scipy==1.4.1, but you'll have scipy 1.5.0 which is incompatible.\u001b[0m\n",
            "\u001b[31mERROR: jupyter-console 5.2.0 has requirement prompt-toolkit<2.0.0,>=1.0.0, but you'll have prompt-toolkit 3.0.8 which is incompatible.\u001b[0m\n",
            "\u001b[31mERROR: google-colab 1.0.0 has requirement ipython~=5.5.0, but you'll have ipython 7.15.0 which is incompatible.\u001b[0m\n",
            "\u001b[31mERROR: datascience 0.10.6 has requirement folium==0.2.1, but you'll have folium 0.8.3 which is incompatible.\u001b[0m\n",
            "\u001b[31mERROR: albumentations 0.1.12 has requirement imgaug<0.2.7,>=0.2.5, but you'll have imgaug 0.2.9 which is incompatible.\u001b[0m\n",
            "Installing collected packages: prompt-toolkit, ipython, threadpoolctl, numpy, scipy, scikit-learn, tqdm, pandas, statsmodels, holidays, u8darts\n",
            "  Found existing installation: prompt-toolkit 1.0.18\n",
            "    Uninstalling prompt-toolkit-1.0.18:\n",
            "      Successfully uninstalled prompt-toolkit-1.0.18\n",
            "  Found existing installation: ipython 5.5.0\n",
            "    Uninstalling ipython-5.5.0:\n",
            "      Successfully uninstalled ipython-5.5.0\n",
            "  Found existing installation: numpy 1.18.5\n",
            "    Uninstalling numpy-1.18.5:\n",
            "      Successfully uninstalled numpy-1.18.5\n",
            "  Found existing installation: scipy 1.4.1\n",
            "    Uninstalling scipy-1.4.1:\n",
            "      Successfully uninstalled scipy-1.4.1\n",
            "  Found existing installation: scikit-learn 0.22.2.post1\n",
            "    Uninstalling scikit-learn-0.22.2.post1:\n",
            "      Successfully uninstalled scikit-learn-0.22.2.post1\n",
            "  Found existing installation: tqdm 4.41.1\n",
            "    Uninstalling tqdm-4.41.1:\n",
            "      Successfully uninstalled tqdm-4.41.1\n",
            "  Found existing installation: pandas 1.1.4\n",
            "    Uninstalling pandas-1.1.4:\n",
            "      Successfully uninstalled pandas-1.1.4\n",
            "  Found existing installation: statsmodels 0.10.2\n",
            "    Uninstalling statsmodels-0.10.2:\n",
            "      Successfully uninstalled statsmodels-0.10.2\n",
            "  Found existing installation: holidays 0.10.3\n",
            "    Uninstalling holidays-0.10.3:\n",
            "      Successfully uninstalled holidays-0.10.3\n",
            "Successfully installed holidays-0.10.2 ipython-7.15.0 numpy-1.19.0 pandas-1.1.0 prompt-toolkit-3.0.8 scikit-learn-0.23.2 scipy-1.5.0 statsmodels-0.11.1 threadpoolctl-2.1.0 tqdm-4.46.1 u8darts-0.5.0\n"
          ],
          "name": "stdout"
        },
        {
          "output_type": "display_data",
          "data": {
            "application/vnd.colab-display-data+json": {
              "pip_warning": {
                "packages": [
                  "IPython",
                  "numpy",
                  "pandas",
                  "prompt_toolkit",
                  "scipy",
                  "statsmodels",
                  "tqdm"
                ]
              }
            }
          },
          "metadata": {
            "tags": []
          }
        }
      ]
    },
    {
      "cell_type": "code",
      "metadata": {
        "id": "UwAfSUcIqE8Z"
      },
      "source": [
        "import pandas as pd\n",
        "df = pd.read_csv('test.csv')"
      ],
      "execution_count": 24,
      "outputs": []
    },
    {
      "cell_type": "code",
      "metadata": {
        "id": "OeOidbWaoTZ1"
      },
      "source": [
        "from darts import TimeSeries\n",
        "series = TimeSeries.from_dataframe(df, time_col='date', value_cols='Rid')"
      ],
      "execution_count": 27,
      "outputs": []
    },
    {
      "cell_type": "code",
      "metadata": {
        "id": "7hT12G4qqK-5",
        "outputId": "42bb3ca7-05c6-4e35-8ae9-a90ad8f0e73b",
        "colab": {
          "base_uri": "https://localhost:8080/"
        }
      },
      "source": [
        "series"
      ],
      "execution_count": 28,
      "outputs": [
        {
          "output_type": "execute_result",
          "data": {
            "text/plain": [
              "             Rid\n",
              "date            \n",
              "2020-10-11   440\n",
              "2020-10-12   369\n",
              "2020-10-13   389\n",
              "2020-10-14   474\n",
              "2020-10-15   378\n",
              "2020-10-16    46\n",
              "2020-10-17   334\n",
              "2020-10-18   386\n",
              "2020-10-19   436\n",
              "2020-10-20   379\n",
              "2020-10-21   383\n",
              "2020-10-22   376\n",
              "2020-10-23   400\n",
              "2020-10-24   329\n",
              "2020-10-25   379\n",
              "2020-10-26   391\n",
              "2020-10-27   397\n",
              "2020-10-28   350\n",
              "2020-10-29   295\n",
              "2020-10-30   340\n",
              "2020-10-31   331\n",
              "2020-11-01   323\n",
              "2020-11-02   404\n",
              "2020-11-03   451\n",
              "2020-11-04   455\n",
              "2020-11-05  1014\n",
              "2020-11-06   582\n",
              "2020-11-07   471\n",
              "2020-11-08   516\n",
              "2020-11-09   670\n",
              "2020-11-10   732\n",
              "2020-11-11   631\n",
              "2020-11-12   603\n",
              "2020-11-13   515\n",
              "2020-11-14   511\n",
              "2020-11-15   623\n",
              "2020-11-16   532\n",
              "2020-11-17   484\n",
              "2020-11-18   478\n",
              "2020-11-19   806\n",
              "2020-11-20   522\n",
              "2020-11-21   472\n",
              "2020-11-22   482\n",
              "2020-11-23   481\n",
              "2020-11-24   486\n",
              "2020-11-25   568\n",
              "2020-11-26   516\n",
              "2020-11-27   674\n",
              "2020-11-28   617\n",
              "2020-11-29   614\n",
              "2020-11-30   557\n",
              "2020-12-01   472\n",
              "2020-12-02   361\n",
              "2020-12-03   521\n",
              "2020-12-04  1041\n",
              "2020-12-05   508\n",
              "2020-12-06   452\n",
              "2020-12-07   515\n",
              "2020-12-08    77\n",
              "Freq: D"
            ]
          },
          "metadata": {
            "tags": []
          },
          "execution_count": 28
        }
      ]
    },
    {
      "cell_type": "code",
      "metadata": {
        "id": "nlRIA3Gbs_mX"
      },
      "source": [
        "train, val = series.split_after(pd.Timestamp('20201011'))"
      ],
      "execution_count": 22,
      "outputs": []
    },
    {
      "cell_type": "code",
      "metadata": {
        "id": "bHWk460Ynm37"
      },
      "source": [
        "train, val = series.split_after(pd.Timestamp('20201125'))\n",
        "from darts.models import ExponentialSmoothing\n",
        "\n",
        "# モデル生成\n",
        "model = ExponentialSmoothing()\n",
        "\n",
        "# 学習\n",
        "model.fit(train) \n",
        "\n",
        "# 予測 (predictには予測数を入れることに注意)\n",
        "prediction = model.predict(len(val))"
      ],
      "execution_count": 47,
      "outputs": []
    },
    {
      "cell_type": "code",
      "metadata": {
        "id": "_jmeeqUVsODy",
        "outputId": "624d4234-61f6-48dd-94e7-d80581f5d642",
        "colab": {
          "base_uri": "https://localhost:8080/"
        }
      },
      "source": [
        "prediction"
      ],
      "execution_count": 48,
      "outputs": [
        {
          "output_type": "execute_result",
          "data": {
            "text/plain": [
              "                     0\n",
              "2020-11-26  533.526318\n",
              "2020-11-27  584.046753\n",
              "2020-11-28  591.664685\n",
              "2020-11-29  684.108878\n",
              "2020-11-30  591.148684\n",
              "2020-12-01  670.518323\n",
              "2020-12-02  586.398779\n",
              "2020-12-03  517.772656\n",
              "2020-12-04  595.672610\n",
              "2020-12-05  593.713351\n",
              "2020-12-06  597.670129\n",
              "2020-12-07  580.114676\n",
              "2020-12-08  592.756699\n",
              "Freq: D"
            ]
          },
          "metadata": {
            "tags": []
          },
          "execution_count": 48
        }
      ]
    },
    {
      "cell_type": "code",
      "metadata": {
        "id": "xGS2UsX0qYf_",
        "outputId": "2a574443-2949-49e8-cc52-58f9cc73dd7c",
        "colab": {
          "base_uri": "https://localhost:8080/",
          "height": 310
        }
      },
      "source": [
        "import matplotlib.pyplot as plt\n",
        "\n",
        "series.plot(label='actual', lw=3)\n",
        "prediction.plot(label='forecast', lw=3)\n",
        "plt.legend()\n",
        "plt.xlabel('Year');"
      ],
      "execution_count": 49,
      "outputs": [
        {
          "output_type": "display_data",
          "data": {
            "image/png": "[encoded data removed]",
            "text/plain": [
              "<Figure size 432x288 with 1 Axes>"
            ]
          },
          "metadata": {
            "tags": [],
            "needs_background": "light"
          }
        }
      ]
    },
    {
      "cell_type": "code",
      "metadata": {
        "id": "N9bSghKQqjYf",
        "outputId": "1a959a67-bdb8-454a-b960-a7e80e34aee7",
        "colab": {
          "base_uri": "https://localhost:8080/"
        }
      },
      "source": [
        "from darts.models import (\n",
        "    NaiveSeasonal,\n",
        "    NaiveDrift,\n",
        "    Prophet,\n",
        "    ExponentialSmoothing,\n",
        "  #  ARIMA,\n",
        "  #  AutoARIMA,\n",
        "    StandardRegressionModel,\n",
        "    Theta,\n",
        "    FFT\n",
        ")\n",
        "\n",
        "for model in (\n",
        "    NaiveSeasonal,\n",
        "    NaiveDrift,\n",
        "    Prophet,\n",
        "    ExponentialSmoothing,\n",
        "  #  ARIMA,\n",
        "  #  AutoARIMA,\n",
        "    # StandardRegressionModel, -> 初期化時にtrain_n_points が必要\n",
        "    Theta,\n",
        "    FFT\n",
        "):\n",
        "    m = model()\n",
        "    m.fit(train)\n",
        "    pred = m.predict(len(val))"
      ],
      "execution_count": 39,
      "outputs": [
        {
          "output_type": "stream",
          "text": [
            "INFO:fbprophet:Disabling yearly seasonality. Run prophet with yearly_seasonality=True to override this.\n",
            "INFO:fbprophet:Disabling daily seasonality. Run prophet with daily_seasonality=True to override this.\n",
            "[2020-12-08 09:39:05,421] INFO | darts.models.theta | Theta model inferred seasonality of training series: 4\n",
            "[2020-12-08 09:39:05,421] INFO | darts.models.theta | Theta model inferred seasonality of training series: 4\n",
            "INFO:darts.models.theta:Theta model inferred seasonality of training series: 4\n",
            "/usr/local/lib/python3.6/dist-packages/statsmodels/tsa/stattools.py:572: FutureWarning:\n",
            "\n",
            "fft=True will become the default in a future version of statsmodels. To suppress this warning, explicitly set fft=False.\n",
            "\n"
          ],
          "name": "stderr"
        }
      ]
    },
    {
      "cell_type": "code",
      "metadata": {
        "id": "xbh3U4Ynuk3q",
        "outputId": "51f6dc6a-7aa4-4c06-84fb-37233e3d0259",
        "colab": {
          "base_uri": "https://localhost:8080/",
          "height": 296
        }
      },
      "source": [
        "from darts.backtesting import backtest_forecasting"
      ],
      "execution_count": 46,
      "outputs": [
        {
          "output_type": "error",
          "ename": "ModuleNotFoundError",
          "evalue": "ignored",
          "traceback": [
            "\u001b[0;31m---------------------------------------------------------------------------\u001b[0m",
            "\u001b[0;31mModuleNotFoundError\u001b[0m                       Traceback (most recent call last)",
            "\u001b[0;32m<ipython-input-46-bbfa234465b9>\u001b[0m in \u001b[0;36m<module>\u001b[0;34m\u001b[0m\n\u001b[0;32m----> 1\u001b[0;31m \u001b[0;32mfrom\u001b[0m \u001b[0mdarts\u001b[0m\u001b[0;34m.\u001b[0m\u001b[0mbacktesting\u001b[0m \u001b[0;32mimport\u001b[0m \u001b[0mbacktest_forecasting\u001b[0m\u001b[0;34m\u001b[0m\u001b[0;34m\u001b[0m\u001b[0m\n\u001b[0m",
            "\u001b[0;31mModuleNotFoundError\u001b[0m: No module named 'darts.backtesting'",
            "",
            "\u001b[0;31m---------------------------------------------------------------------------\u001b[0;32m\nNOTE: If your import is failing due to a missing package, you can\nmanually install dependencies using either !pip or !apt.\n\nTo view examples of installing some common dependencies, click the\n\"Open Examples\" button below.\n\u001b[0;31m---------------------------------------------------------------------------\u001b[0m\n"
          ]
        }
      ]
    },
    {
      "cell_type": "code",
      "metadata": {
        "id": "qgzbmTolutAB",
        "outputId": "6d6d3246-434a-48c8-e1a0-5bb780b3e02d",
        "colab": {
          "base_uri": "https://localhost:8080/"
        }
      },
      "source": [
        "!pip install darts"
      ],
      "execution_count": 45,
      "outputs": [
        {
          "output_type": "stream",
          "text": [
            "Collecting darts\n",
            "  Downloading https://files.pythonhosted.org/packages/db/ae/ec7772cf63015a4a9e20bce10df35aef2b348686840c6310fb3babd7b040/DARTS-0.0.1.post1-py3-none-any.whl\n",
            "Requirement already satisfied: torch in /usr/local/lib/python3.6/dist-packages (from darts) (1.5.1)\n",
            "Requirement already satisfied: torchvision in /usr/local/lib/python3.6/dist-packages (from darts) (0.8.1+cu101)\n",
            "Requirement already satisfied: pandas in /usr/local/lib/python3.6/dist-packages (from darts) (1.1.0)\n",
            "Requirement already satisfied: Pillow in /usr/local/lib/python3.6/dist-packages (from darts) (7.0.0)\n",
            "Requirement already satisfied: scipy in /usr/local/lib/python3.6/dist-packages (from darts) (1.5.0)\n",
            "Requirement already satisfied: numpy in /usr/local/lib/python3.6/dist-packages (from darts) (1.19.0)\n",
            "Requirement already satisfied: scikit-learn in /usr/local/lib/python3.6/dist-packages (from darts) (0.23.2)\n",
            "Requirement already satisfied: gdown in /usr/local/lib/python3.6/dist-packages (from darts) (3.6.4)\n",
            "Requirement already satisfied: scikit-image in /usr/local/lib/python3.6/dist-packages (from darts) (0.16.2)\n",
            "Requirement already satisfied: matplotlib in /usr/local/lib/python3.6/dist-packages (from darts) (3.2.2)\n",
            "Requirement already satisfied: ipython in /usr/local/lib/python3.6/dist-packages (from darts) (7.15.0)\n",
            "Requirement already satisfied: nibabel in /usr/local/lib/python3.6/dist-packages (from darts) (3.0.2)\n",
            "Requirement already satisfied: future in /usr/local/lib/python3.6/dist-packages (from torch->darts) (0.16.0)\n",
            "Requirement already satisfied: pytz>=2017.2 in /usr/local/lib/python3.6/dist-packages (from pandas->darts) (2018.9)\n",
            "Requirement already satisfied: python-dateutil>=2.7.3 in /usr/local/lib/python3.6/dist-packages (from pandas->darts) (2.8.1)\n",
            "Requirement already satisfied: joblib>=0.11 in /usr/local/lib/python3.6/dist-packages (from scikit-learn->darts) (0.17.0)\n",
            "Requirement already satisfied: threadpoolctl>=2.0.0 in /usr/local/lib/python3.6/dist-packages (from scikit-learn->darts) (2.1.0)\n",
            "Requirement already satisfied: tqdm in /usr/local/lib/python3.6/dist-packages (from gdown->darts) (4.46.1)\n",
            "Requirement already satisfied: six in /usr/local/lib/python3.6/dist-packages (from gdown->darts) (1.15.0)\n",
            "Requirement already satisfied: requests in /usr/local/lib/python3.6/dist-packages (from gdown->darts) (2.23.0)\n",
            "Requirement already satisfied: networkx>=2.0 in /usr/local/lib/python3.6/dist-packages (from scikit-image->darts) (2.5)\n",
            "Requirement already satisfied: PyWavelets>=0.4.0 in /usr/local/lib/python3.6/dist-packages (from scikit-image->darts) (1.1.1)\n",
            "Requirement already satisfied: imageio>=2.3.0 in /usr/local/lib/python3.6/dist-packages (from scikit-image->darts) (2.4.1)\n",
            "Requirement already satisfied: cycler>=0.10 in /usr/local/lib/python3.6/dist-packages (from matplotlib->darts) (0.10.0)\n",
            "Requirement already satisfied: pyparsing!=2.0.4,!=2.1.2,!=2.1.6,>=2.0.1 in /usr/local/lib/python3.6/dist-packages (from matplotlib->darts) (2.4.7)\n",
            "Requirement already satisfied: kiwisolver>=1.0.1 in /usr/local/lib/python3.6/dist-packages (from matplotlib->darts) (1.3.1)\n",
            "Requirement already satisfied: pygments in /usr/local/lib/python3.6/dist-packages (from ipython->darts) (2.6.1)\n",
            "Requirement already satisfied: pickleshare in /usr/local/lib/python3.6/dist-packages (from ipython->darts) (0.7.5)\n",
            "Requirement already satisfied: prompt-toolkit!=3.0.0,!=3.0.1,<3.1.0,>=2.0.0 in /usr/local/lib/python3.6/dist-packages (from ipython->darts) (3.0.8)\n",
            "Requirement already satisfied: setuptools>=18.5 in /usr/local/lib/python3.6/dist-packages (from ipython->darts) (50.3.2)\n",
            "Requirement already satisfied: decorator in /usr/local/lib/python3.6/dist-packages (from ipython->darts) (4.4.2)\n",
            "Requirement already satisfied: backcall in /usr/local/lib/python3.6/dist-packages (from ipython->darts) (0.2.0)\n",
            "Requirement already satisfied: traitlets>=4.2 in /usr/local/lib/python3.6/dist-packages (from ipython->darts) (4.3.3)\n",
            "Requirement already satisfied: pexpect; sys_platform != \"win32\" in /usr/local/lib/python3.6/dist-packages (from ipython->darts) (4.8.0)\n",
            "Requirement already satisfied: jedi>=0.10 in /usr/local/lib/python3.6/dist-packages (from ipython->darts) (0.17.2)\n",
            "Requirement already satisfied: idna<3,>=2.5 in /usr/local/lib/python3.6/dist-packages (from requests->gdown->darts) (2.10)\n",
            "Requirement already satisfied: certifi>=2017.4.17 in /usr/local/lib/python3.6/dist-packages (from requests->gdown->darts) (2020.11.8)\n",
            "Requirement already satisfied: chardet<4,>=3.0.2 in /usr/local/lib/python3.6/dist-packages (from requests->gdown->darts) (3.0.4)\n",
            "Requirement already satisfied: urllib3!=1.25.0,!=1.25.1,<1.26,>=1.21.1 in /usr/local/lib/python3.6/dist-packages (from requests->gdown->darts) (1.24.3)\n",
            "Requirement already satisfied: wcwidth in /usr/local/lib/python3.6/dist-packages (from prompt-toolkit!=3.0.0,!=3.0.1,<3.1.0,>=2.0.0->ipython->darts) (0.2.5)\n",
            "Requirement already satisfied: ipython-genutils in /usr/local/lib/python3.6/dist-packages (from traitlets>=4.2->ipython->darts) (0.2.0)\n",
            "Requirement already satisfied: ptyprocess>=0.5 in /usr/local/lib/python3.6/dist-packages (from pexpect; sys_platform != \"win32\"->ipython->darts) (0.6.0)\n",
            "Requirement already satisfied: parso<0.8.0,>=0.7.0 in /usr/local/lib/python3.6/dist-packages (from jedi>=0.10->ipython->darts) (0.7.1)\n",
            "Installing collected packages: darts\n",
            "Successfully installed darts-0.0.1.post1\n"
          ],
          "name": "stdout"
        }
      ]
    },
    {
      "cell_type": "code",
      "metadata": {
        "id": "v0fwFkwtq8Hf",
        "outputId": "f1513e3a-d838-43cd-dee4-35e1b3a98c0b",
        "colab": {
          "base_uri": "https://localhost:8080/",
          "height": 363
        }
      },
      "source": [
        "from darts.backtesting import backtest_forecasting\n",
        "\n",
        "models = [ExponentialSmoothing, AutoARIMA, Prophet]\n",
        "backtests = [\n",
        "    backtest_forecasting(series=series,\n",
        "                         model=model(),\n",
        "                         start=pd.Timestamp('20201101'),\n",
        "                         fcast_horizon_n=3)\n",
        "    for model in models\n",
        "]"
      ],
      "execution_count": 40,
      "outputs": [
        {
          "output_type": "error",
          "ename": "ModuleNotFoundError",
          "evalue": "ignored",
          "traceback": [
            "\u001b[0;31m---------------------------------------------------------------------------\u001b[0m",
            "\u001b[0;31mModuleNotFoundError\u001b[0m                       Traceback (most recent call last)",
            "\u001b[0;32m<ipython-input-40-bd6dee5da623>\u001b[0m in \u001b[0;36m<module>\u001b[0;34m\u001b[0m\n\u001b[0;32m----> 1\u001b[0;31m \u001b[0;32mfrom\u001b[0m \u001b[0mdarts\u001b[0m\u001b[0;34m.\u001b[0m\u001b[0mbacktesting\u001b[0m \u001b[0;32mimport\u001b[0m \u001b[0mbacktest_forecasting\u001b[0m\u001b[0;34m\u001b[0m\u001b[0;34m\u001b[0m\u001b[0m\n\u001b[0m\u001b[1;32m      2\u001b[0m \u001b[0;34m\u001b[0m\u001b[0m\n\u001b[1;32m      3\u001b[0m \u001b[0mmodels\u001b[0m \u001b[0;34m=\u001b[0m \u001b[0;34m[\u001b[0m\u001b[0mExponentialSmoothing\u001b[0m\u001b[0;34m,\u001b[0m \u001b[0mAutoARIMA\u001b[0m\u001b[0;34m,\u001b[0m \u001b[0mProphet\u001b[0m\u001b[0;34m]\u001b[0m\u001b[0;34m\u001b[0m\u001b[0;34m\u001b[0m\u001b[0m\n\u001b[1;32m      4\u001b[0m backtests = [\n\u001b[1;32m      5\u001b[0m     backtest_forecasting(series=series,\n",
            "\u001b[0;31mModuleNotFoundError\u001b[0m: No module named 'darts.backtesting'",
            "",
            "\u001b[0;31m---------------------------------------------------------------------------\u001b[0;32m\nNOTE: If your import is failing due to a missing package, you can\nmanually install dependencies using either !pip or !apt.\n\nTo view examples of installing some common dependencies, click the\n\"Open Examples\" button below.\n\u001b[0;31m---------------------------------------------------------------------------\u001b[0m\n"
          ]
        }
      ]
    }
  ]
}