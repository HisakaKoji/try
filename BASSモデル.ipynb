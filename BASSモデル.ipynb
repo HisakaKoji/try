{
  "nbformat": 4,
  "nbformat_minor": 0,
  "metadata": {
    "colab": {
      "name": "Untitled44.ipynb",
      "provenance": [],
      "authorship_tag": "ABX9TyNwnfvwhksFuph0FsQ2kRQR",
      "include_colab_link": true
    },
    "kernelspec": {
      "name": "python3",
      "display_name": "Python 3"
    },
    "language_info": {
      "name": "python"
    }
  },
  "cells": [
    {
      "cell_type": "markdown",
      "metadata": {
        "id": "view-in-github",
        "colab_type": "text"
      },
      "source": [
        "<a href=\"https://colab.research.google.com/github/HisakaKoji/try/blob/main/BASS%E3%83%A2%E3%83%87%E3%83%AB.ipynb\" target=\"_parent\"><img src=\"https://colab.research.google.com/assets/colab-badge.svg\" alt=\"Open In Colab\"/></a>"
      ]
    },
    {
      "cell_type": "code",
      "execution_count": 1,
      "metadata": {
        "id": "H0UUhR1jfTZw"
      },
      "outputs": [],
      "source": [
        "import pandas as pd\n",
        "import numpy as np\n",
        "import matplotlib.pyplot as plt\n",
        "%matplotlib inline\n",
        "from sklearn import linear_model\n",
        "from math import sqrt"
      ]
    },
    {
      "cell_type": "code",
      "source": [
        "df = pd.read_csv('sample_data.csv')\n",
        "df"
      ],
      "metadata": {
        "colab": {
          "base_uri": "https://localhost:8080/",
          "height": 520
        },
        "id": "fK8-50QMfanV",
        "outputId": "a500c573-0a34-4f59-e09a-44184bb84b8c"
      },
      "execution_count": 2,
      "outputs": [
        {
          "output_type": "execute_result",
          "data": {
            "text/html": [
              "\n",
              "  <div id=\"df-8d46ac67-e75b-4143-8bfd-4f383f04f20b\">\n",
              "    <div class=\"colab-df-container\">\n",
              "      <div>\n",
              "<style scoped>\n",
              "    .dataframe tbody tr th:only-of-type {\n",
              "        vertical-align: middle;\n",
              "    }\n",
              "\n",
              "    .dataframe tbody tr th {\n",
              "        vertical-align: top;\n",
              "    }\n",
              "\n",
              "    .dataframe thead th {\n",
              "        text-align: right;\n",
              "    }\n",
              "</style>\n",
              "<table border=\"1\" class=\"dataframe\">\n",
              "  <thead>\n",
              "    <tr style=\"text-align: right;\">\n",
              "      <th></th>\n",
              "      <th>時点</th>\n",
              "      <th>Quantity</th>\n",
              "      <th>Total_Quantity</th>\n",
              "      <th>Last_Total_Quantity</th>\n",
              "      <th>Last_Total_Quantity_sq</th>\n",
              "    </tr>\n",
              "  </thead>\n",
              "  <tbody>\n",
              "    <tr>\n",
              "      <th>0</th>\n",
              "      <td>1</td>\n",
              "      <td>4998</td>\n",
              "      <td>4998</td>\n",
              "      <td>0</td>\n",
              "      <td>0</td>\n",
              "    </tr>\n",
              "    <tr>\n",
              "      <th>1</th>\n",
              "      <td>2</td>\n",
              "      <td>5398</td>\n",
              "      <td>10396</td>\n",
              "      <td>4998</td>\n",
              "      <td>24980004</td>\n",
              "    </tr>\n",
              "    <tr>\n",
              "      <th>2</th>\n",
              "      <td>3</td>\n",
              "      <td>5611</td>\n",
              "      <td>16007</td>\n",
              "      <td>10396</td>\n",
              "      <td>108076816</td>\n",
              "    </tr>\n",
              "    <tr>\n",
              "      <th>3</th>\n",
              "      <td>4</td>\n",
              "      <td>5574</td>\n",
              "      <td>21581</td>\n",
              "      <td>16007</td>\n",
              "      <td>256224049</td>\n",
              "    </tr>\n",
              "    <tr>\n",
              "      <th>4</th>\n",
              "      <td>5</td>\n",
              "      <td>5292</td>\n",
              "      <td>26873</td>\n",
              "      <td>21581</td>\n",
              "      <td>465739561</td>\n",
              "    </tr>\n",
              "    <tr>\n",
              "      <th>5</th>\n",
              "      <td>6</td>\n",
              "      <td>4798</td>\n",
              "      <td>31671</td>\n",
              "      <td>26873</td>\n",
              "      <td>722158129</td>\n",
              "    </tr>\n",
              "    <tr>\n",
              "      <th>6</th>\n",
              "      <td>7</td>\n",
              "      <td>4157</td>\n",
              "      <td>35828</td>\n",
              "      <td>31671</td>\n",
              "      <td>1003052241</td>\n",
              "    </tr>\n",
              "    <tr>\n",
              "      <th>7</th>\n",
              "      <td>8</td>\n",
              "      <td>3445</td>\n",
              "      <td>39273</td>\n",
              "      <td>35828</td>\n",
              "      <td>1283645584</td>\n",
              "    </tr>\n",
              "    <tr>\n",
              "      <th>8</th>\n",
              "      <td>9</td>\n",
              "      <td>2762</td>\n",
              "      <td>42035</td>\n",
              "      <td>39273</td>\n",
              "      <td>1542368529</td>\n",
              "    </tr>\n",
              "    <tr>\n",
              "      <th>9</th>\n",
              "      <td>10</td>\n",
              "      <td>2141</td>\n",
              "      <td>44176</td>\n",
              "      <td>42035</td>\n",
              "      <td>1766941225</td>\n",
              "    </tr>\n",
              "    <tr>\n",
              "      <th>10</th>\n",
              "      <td>11</td>\n",
              "      <td>1609</td>\n",
              "      <td>45785</td>\n",
              "      <td>44176</td>\n",
              "      <td>1951518976</td>\n",
              "    </tr>\n",
              "    <tr>\n",
              "      <th>11</th>\n",
              "      <td>12</td>\n",
              "      <td>1199</td>\n",
              "      <td>46984</td>\n",
              "      <td>45785</td>\n",
              "      <td>2096266225</td>\n",
              "    </tr>\n",
              "    <tr>\n",
              "      <th>12</th>\n",
              "      <td>13</td>\n",
              "      <td>871</td>\n",
              "      <td>47855</td>\n",
              "      <td>46984</td>\n",
              "      <td>2207496256</td>\n",
              "    </tr>\n",
              "    <tr>\n",
              "      <th>13</th>\n",
              "      <td>14</td>\n",
              "      <td>629</td>\n",
              "      <td>48484</td>\n",
              "      <td>47855</td>\n",
              "      <td>2290101025</td>\n",
              "    </tr>\n",
              "    <tr>\n",
              "      <th>14</th>\n",
              "      <td>15</td>\n",
              "      <td>448</td>\n",
              "      <td>48932</td>\n",
              "      <td>48484</td>\n",
              "      <td>2350698256</td>\n",
              "    </tr>\n",
              "  </tbody>\n",
              "</table>\n",
              "</div>\n",
              "      <button class=\"colab-df-convert\" onclick=\"convertToInteractive('df-8d46ac67-e75b-4143-8bfd-4f383f04f20b')\"\n",
              "              title=\"Convert this dataframe to an interactive table.\"\n",
              "              style=\"display:none;\">\n",
              "        \n",
              "  <svg xmlns=\"http://www.w3.org/2000/svg\" height=\"24px\"viewBox=\"0 0 24 24\"\n",
              "       width=\"24px\">\n",
              "    <path d=\"M0 0h24v24H0V0z\" fill=\"none\"/>\n",
              "    <path d=\"M18.56 5.44l.94 2.06.94-2.06 2.06-.94-2.06-.94-.94-2.06-.94 2.06-2.06.94zm-11 1L8.5 8.5l.94-2.06 2.06-.94-2.06-.94L8.5 2.5l-.94 2.06-2.06.94zm10 10l.94 2.06.94-2.06 2.06-.94-2.06-.94-.94-2.06-.94 2.06-2.06.94z\"/><path d=\"M17.41 7.96l-1.37-1.37c-.4-.4-.92-.59-1.43-.59-.52 0-1.04.2-1.43.59L10.3 9.45l-7.72 7.72c-.78.78-.78 2.05 0 2.83L4 21.41c.39.39.9.59 1.41.59.51 0 1.02-.2 1.41-.59l7.78-7.78 2.81-2.81c.8-.78.8-2.07 0-2.86zM5.41 20L4 18.59l7.72-7.72 1.47 1.35L5.41 20z\"/>\n",
              "  </svg>\n",
              "      </button>\n",
              "      \n",
              "  <style>\n",
              "    .colab-df-container {\n",
              "      display:flex;\n",
              "      flex-wrap:wrap;\n",
              "      gap: 12px;\n",
              "    }\n",
              "\n",
              "    .colab-df-convert {\n",
              "      background-color: #E8F0FE;\n",
              "      border: none;\n",
              "      border-radius: 50%;\n",
              "      cursor: pointer;\n",
              "      display: none;\n",
              "      fill: #1967D2;\n",
              "      height: 32px;\n",
              "      padding: 0 0 0 0;\n",
              "      width: 32px;\n",
              "    }\n",
              "\n",
              "    .colab-df-convert:hover {\n",
              "      background-color: #E2EBFA;\n",
              "      box-shadow: 0px 1px 2px rgba(60, 64, 67, 0.3), 0px 1px 3px 1px rgba(60, 64, 67, 0.15);\n",
              "      fill: #174EA6;\n",
              "    }\n",
              "\n",
              "    [theme=dark] .colab-df-convert {\n",
              "      background-color: #3B4455;\n",
              "      fill: #D2E3FC;\n",
              "    }\n",
              "\n",
              "    [theme=dark] .colab-df-convert:hover {\n",
              "      background-color: #434B5C;\n",
              "      box-shadow: 0px 1px 3px 1px rgba(0, 0, 0, 0.15);\n",
              "      filter: drop-shadow(0px 1px 2px rgba(0, 0, 0, 0.3));\n",
              "      fill: #FFFFFF;\n",
              "    }\n",
              "  </style>\n",
              "\n",
              "      <script>\n",
              "        const buttonEl =\n",
              "          document.querySelector('#df-8d46ac67-e75b-4143-8bfd-4f383f04f20b button.colab-df-convert');\n",
              "        buttonEl.style.display =\n",
              "          google.colab.kernel.accessAllowed ? 'block' : 'none';\n",
              "\n",
              "        async function convertToInteractive(key) {\n",
              "          const element = document.querySelector('#df-8d46ac67-e75b-4143-8bfd-4f383f04f20b');\n",
              "          const dataTable =\n",
              "            await google.colab.kernel.invokeFunction('convertToInteractive',\n",
              "                                                     [key], {});\n",
              "          if (!dataTable) return;\n",
              "\n",
              "          const docLinkHtml = 'Like what you see? Visit the ' +\n",
              "            '<a target=\"_blank\" href=https://colab.research.google.com/notebooks/data_table.ipynb>data table notebook</a>'\n",
              "            + ' to learn more about interactive tables.';\n",
              "          element.innerHTML = '';\n",
              "          dataTable['output_type'] = 'display_data';\n",
              "          await google.colab.output.renderOutput(dataTable, element);\n",
              "          const docLink = document.createElement('div');\n",
              "          docLink.innerHTML = docLinkHtml;\n",
              "          element.appendChild(docLink);\n",
              "        }\n",
              "      </script>\n",
              "    </div>\n",
              "  </div>\n",
              "  "
            ],
            "text/plain": [
              "    時点  Quantity  Total_Quantity  Last_Total_Quantity  Last_Total_Quantity_sq\n",
              "0    1      4998            4998                    0                       0\n",
              "1    2      5398           10396                 4998                24980004\n",
              "2    3      5611           16007                10396               108076816\n",
              "3    4      5574           21581                16007               256224049\n",
              "4    5      5292           26873                21581               465739561\n",
              "5    6      4798           31671                26873               722158129\n",
              "6    7      4157           35828                31671              1003052241\n",
              "7    8      3445           39273                35828              1283645584\n",
              "8    9      2762           42035                39273              1542368529\n",
              "9   10      2141           44176                42035              1766941225\n",
              "10  11      1609           45785                44176              1951518976\n",
              "11  12      1199           46984                45785              2096266225\n",
              "12  13       871           47855                46984              2207496256\n",
              "13  14       629           48484                47855              2290101025\n",
              "14  15       448           48932                48484              2350698256"
            ]
          },
          "metadata": {},
          "execution_count": 2
        }
      ]
    },
    {
      "cell_type": "code",
      "source": [
        "df[\"Quantity\"].plot(style=\"blue\")\n",
        "\n",
        "plt.title(\"Quantity\")"
      ],
      "metadata": {
        "colab": {
          "base_uri": "https://localhost:8080/",
          "height": 298
        },
        "id": "imkJM-ixflHM",
        "outputId": "3afe476d-daf1-4570-efa8-cef9288862e4"
      },
      "execution_count": 3,
      "outputs": [
        {
          "output_type": "execute_result",
          "data": {
            "text/plain": [
              "Text(0.5, 1.0, 'Quantity')"
            ]
          },
          "metadata": {},
          "execution_count": 3
        },
        {
          "output_type": "display_data",
          "data": {
            "image/png": "[encoded data removed]",
            "text/plain": [
              "<Figure size 432x288 with 1 Axes>"
            ]
          },
          "metadata": {
            "needs_background": "light"
          }
        }
      ]
    },
    {
      "cell_type": "code",
      "source": [
        "df[\"Total_Quantity\"].plot(style=\"orange\")\n",
        "\n",
        "plt.title(\"Total_Quantity\")"
      ],
      "metadata": {
        "colab": {
          "base_uri": "https://localhost:8080/",
          "height": 298
        },
        "id": "U70wSBuQfphQ",
        "outputId": "f90f5084-2642-4feb-945e-41d5f6c56781"
      },
      "execution_count": 4,
      "outputs": [
        {
          "output_type": "execute_result",
          "data": {
            "text/plain": [
              "Text(0.5, 1.0, 'Total_Quantity')"
            ]
          },
          "metadata": {},
          "execution_count": 4
        },
        {
          "output_type": "display_data",
          "data": {
            "image/png": "[encoded data removed]",
            "text/plain": [
              "<Figure size 432x288 with 1 Axes>"
            ]
          },
          "metadata": {
            "needs_background": "light"
          }
        }
      ]
    },
    {
      "cell_type": "code",
      "source": [
        "linRegData = pd.DataFrame()\n",
        "linRegData[\"Quantity\"] = df[\"Quantity\"]\n",
        "linRegData[\"N\"] = df[\"Last_Total_Quantity\"]\n",
        "linRegData[\"N**2\"] = df[\"Last_Total_Quantity_sq\"]\n",
        "linRegData"
      ],
      "metadata": {
        "colab": {
          "base_uri": "https://localhost:8080/",
          "height": 520
        },
        "id": "gVX-r-1Lf0i4",
        "outputId": "75071ecf-c60e-4a81-bb4b-d354e1d77bfa"
      },
      "execution_count": 5,
      "outputs": [
        {
          "output_type": "execute_result",
          "data": {
            "text/html": [
              "\n",
              "  <div id=\"df-cc758ae1-cce4-49dc-ae3c-f6f2e4859271\">\n",
              "    <div class=\"colab-df-container\">\n",
              "      <div>\n",
              "<style scoped>\n",
              "    .dataframe tbody tr th:only-of-type {\n",
              "        vertical-align: middle;\n",
              "    }\n",
              "\n",
              "    .dataframe tbody tr th {\n",
              "        vertical-align: top;\n",
              "    }\n",
              "\n",
              "    .dataframe thead th {\n",
              "        text-align: right;\n",
              "    }\n",
              "</style>\n",
              "<table border=\"1\" class=\"dataframe\">\n",
              "  <thead>\n",
              "    <tr style=\"text-align: right;\">\n",
              "      <th></th>\n",
              "      <th>Quantity</th>\n",
              "      <th>N</th>\n",
              "      <th>N**2</th>\n",
              "    </tr>\n",
              "  </thead>\n",
              "  <tbody>\n",
              "    <tr>\n",
              "      <th>0</th>\n",
              "      <td>4998</td>\n",
              "      <td>0</td>\n",
              "      <td>0</td>\n",
              "    </tr>\n",
              "    <tr>\n",
              "      <th>1</th>\n",
              "      <td>5398</td>\n",
              "      <td>4998</td>\n",
              "      <td>24980004</td>\n",
              "    </tr>\n",
              "    <tr>\n",
              "      <th>2</th>\n",
              "      <td>5611</td>\n",
              "      <td>10396</td>\n",
              "      <td>108076816</td>\n",
              "    </tr>\n",
              "    <tr>\n",
              "      <th>3</th>\n",
              "      <td>5574</td>\n",
              "      <td>16007</td>\n",
              "      <td>256224049</td>\n",
              "    </tr>\n",
              "    <tr>\n",
              "      <th>4</th>\n",
              "      <td>5292</td>\n",
              "      <td>21581</td>\n",
              "      <td>465739561</td>\n",
              "    </tr>\n",
              "    <tr>\n",
              "      <th>5</th>\n",
              "      <td>4798</td>\n",
              "      <td>26873</td>\n",
              "      <td>722158129</td>\n",
              "    </tr>\n",
              "    <tr>\n",
              "      <th>6</th>\n",
              "      <td>4157</td>\n",
              "      <td>31671</td>\n",
              "      <td>1003052241</td>\n",
              "    </tr>\n",
              "    <tr>\n",
              "      <th>7</th>\n",
              "      <td>3445</td>\n",
              "      <td>35828</td>\n",
              "      <td>1283645584</td>\n",
              "    </tr>\n",
              "    <tr>\n",
              "      <th>8</th>\n",
              "      <td>2762</td>\n",
              "      <td>39273</td>\n",
              "      <td>1542368529</td>\n",
              "    </tr>\n",
              "    <tr>\n",
              "      <th>9</th>\n",
              "      <td>2141</td>\n",
              "      <td>42035</td>\n",
              "      <td>1766941225</td>\n",
              "    </tr>\n",
              "    <tr>\n",
              "      <th>10</th>\n",
              "      <td>1609</td>\n",
              "      <td>44176</td>\n",
              "      <td>1951518976</td>\n",
              "    </tr>\n",
              "    <tr>\n",
              "      <th>11</th>\n",
              "      <td>1199</td>\n",
              "      <td>45785</td>\n",
              "      <td>2096266225</td>\n",
              "    </tr>\n",
              "    <tr>\n",
              "      <th>12</th>\n",
              "      <td>871</td>\n",
              "      <td>46984</td>\n",
              "      <td>2207496256</td>\n",
              "    </tr>\n",
              "    <tr>\n",
              "      <th>13</th>\n",
              "      <td>629</td>\n",
              "      <td>47855</td>\n",
              "      <td>2290101025</td>\n",
              "    </tr>\n",
              "    <tr>\n",
              "      <th>14</th>\n",
              "      <td>448</td>\n",
              "      <td>48484</td>\n",
              "      <td>2350698256</td>\n",
              "    </tr>\n",
              "  </tbody>\n",
              "</table>\n",
              "</div>\n",
              "      <button class=\"colab-df-convert\" onclick=\"convertToInteractive('df-cc758ae1-cce4-49dc-ae3c-f6f2e4859271')\"\n",
              "              title=\"Convert this dataframe to an interactive table.\"\n",
              "              style=\"display:none;\">\n",
              "        \n",
              "  <svg xmlns=\"http://www.w3.org/2000/svg\" height=\"24px\"viewBox=\"0 0 24 24\"\n",
              "       width=\"24px\">\n",
              "    <path d=\"M0 0h24v24H0V0z\" fill=\"none\"/>\n",
              "    <path d=\"M18.56 5.44l.94 2.06.94-2.06 2.06-.94-2.06-.94-.94-2.06-.94 2.06-2.06.94zm-11 1L8.5 8.5l.94-2.06 2.06-.94-2.06-.94L8.5 2.5l-.94 2.06-2.06.94zm10 10l.94 2.06.94-2.06 2.06-.94-2.06-.94-.94-2.06-.94 2.06-2.06.94z\"/><path d=\"M17.41 7.96l-1.37-1.37c-.4-.4-.92-.59-1.43-.59-.52 0-1.04.2-1.43.59L10.3 9.45l-7.72 7.72c-.78.78-.78 2.05 0 2.83L4 21.41c.39.39.9.59 1.41.59.51 0 1.02-.2 1.41-.59l7.78-7.78 2.81-2.81c.8-.78.8-2.07 0-2.86zM5.41 20L4 18.59l7.72-7.72 1.47 1.35L5.41 20z\"/>\n",
              "  </svg>\n",
              "      </button>\n",
              "      \n",
              "  <style>\n",
              "    .colab-df-container {\n",
              "      display:flex;\n",
              "      flex-wrap:wrap;\n",
              "      gap: 12px;\n",
              "    }\n",
              "\n",
              "    .colab-df-convert {\n",
              "      background-color: #E8F0FE;\n",
              "      border: none;\n",
              "      border-radius: 50%;\n",
              "      cursor: pointer;\n",
              "      display: none;\n",
              "      fill: #1967D2;\n",
              "      height: 32px;\n",
              "      padding: 0 0 0 0;\n",
              "      width: 32px;\n",
              "    }\n",
              "\n",
              "    .colab-df-convert:hover {\n",
              "      background-color: #E2EBFA;\n",
              "      box-shadow: 0px 1px 2px rgba(60, 64, 67, 0.3), 0px 1px 3px 1px rgba(60, 64, 67, 0.15);\n",
              "      fill: #174EA6;\n",
              "    }\n",
              "\n",
              "    [theme=dark] .colab-df-convert {\n",
              "      background-color: #3B4455;\n",
              "      fill: #D2E3FC;\n",
              "    }\n",
              "\n",
              "    [theme=dark] .colab-df-convert:hover {\n",
              "      background-color: #434B5C;\n",
              "      box-shadow: 0px 1px 3px 1px rgba(0, 0, 0, 0.15);\n",
              "      filter: drop-shadow(0px 1px 2px rgba(0, 0, 0, 0.3));\n",
              "      fill: #FFFFFF;\n",
              "    }\n",
              "  </style>\n",
              "\n",
              "      <script>\n",
              "        const buttonEl =\n",
              "          document.querySelector('#df-cc758ae1-cce4-49dc-ae3c-f6f2e4859271 button.colab-df-convert');\n",
              "        buttonEl.style.display =\n",
              "          google.colab.kernel.accessAllowed ? 'block' : 'none';\n",
              "\n",
              "        async function convertToInteractive(key) {\n",
              "          const element = document.querySelector('#df-cc758ae1-cce4-49dc-ae3c-f6f2e4859271');\n",
              "          const dataTable =\n",
              "            await google.colab.kernel.invokeFunction('convertToInteractive',\n",
              "                                                     [key], {});\n",
              "          if (!dataTable) return;\n",
              "\n",
              "          const docLinkHtml = 'Like what you see? Visit the ' +\n",
              "            '<a target=\"_blank\" href=https://colab.research.google.com/notebooks/data_table.ipynb>data table notebook</a>'\n",
              "            + ' to learn more about interactive tables.';\n",
              "          element.innerHTML = '';\n",
              "          dataTable['output_type'] = 'display_data';\n",
              "          await google.colab.output.renderOutput(dataTable, element);\n",
              "          const docLink = document.createElement('div');\n",
              "          docLink.innerHTML = docLinkHtml;\n",
              "          element.appendChild(docLink);\n",
              "        }\n",
              "      </script>\n",
              "    </div>\n",
              "  </div>\n",
              "  "
            ],
            "text/plain": [
              "    Quantity      N        N**2\n",
              "0       4998      0           0\n",
              "1       5398   4998    24980004\n",
              "2       5611  10396   108076816\n",
              "3       5574  16007   256224049\n",
              "4       5292  21581   465739561\n",
              "5       4798  26873   722158129\n",
              "6       4157  31671  1003052241\n",
              "7       3445  35828  1283645584\n",
              "8       2762  39273  1542368529\n",
              "9       2141  42035  1766941225\n",
              "10      1609  44176  1951518976\n",
              "11      1199  45785  2096266225\n",
              "12       871  46984  2207496256\n",
              "13       629  47855  2290101025\n",
              "14       448  48484  2350698256"
            ]
          },
          "metadata": {},
          "execution_count": 5
        }
      ]
    },
    {
      "cell_type": "code",
      "source": [
        "linearRegression = linear_model.LinearRegression()\n",
        "linearRegression.fit(linRegData[[\"N\", \"N**2\"]].values, linRegData[\"Quantity\"].values)"
      ],
      "metadata": {
        "colab": {
          "base_uri": "https://localhost:8080/"
        },
        "id": "UXb2r8y0f3Py",
        "outputId": "4170c679-2be4-4094-fda0-9988da2970f8"
      },
      "execution_count": 6,
      "outputs": [
        {
          "output_type": "execute_result",
          "data": {
            "text/plain": [
              "LinearRegression()"
            ]
          },
          "metadata": {},
          "execution_count": 6
        }
      ]
    },
    {
      "cell_type": "code",
      "source": [
        "linearRegression.intercept_,    linearRegression.coef_"
      ],
      "metadata": {
        "colab": {
          "base_uri": "https://localhost:8080/"
        },
        "id": "8D-xoiU-f5jb",
        "outputId": "6ed42a76-110c-4796-d563-4ba5cbd757bf"
      },
      "execution_count": 7,
      "outputs": [
        {
          "output_type": "execute_result",
          "data": {
            "text/plain": [
              "(4999.170101054309, array([ 9.99415961e-02, -3.99701729e-06]))"
            ]
          },
          "metadata": {},
          "execution_count": 7
        }
      ]
    },
    {
      "cell_type": "code",
      "source": [
        "linearRegression.coef_[0]"
      ],
      "metadata": {
        "colab": {
          "base_uri": "https://localhost:8080/"
        },
        "id": "4ObtxCpVgc-d",
        "outputId": "e2ad6838-15ec-4d49-e87b-23d2f6889471"
      },
      "execution_count": 11,
      "outputs": [
        {
          "output_type": "execute_result",
          "data": {
            "text/plain": [
              "0.09994159608950114"
            ]
          },
          "metadata": {},
          "execution_count": 11
        }
      ]
    },
    {
      "cell_type": "code",
      "source": [
        "4999.170101054309+(linearRegression.coef_[0])*linRegData[\"N\"][2]+(linearRegression.coef_[1])*linRegData[\"N**2\"][2]"
      ],
      "metadata": {
        "colab": {
          "base_uri": "https://localhost:8080/"
        },
        "id": "PGeQoJeBgInV",
        "outputId": "103d0a10-0afe-4d90-f99b-e7a5625eab51"
      },
      "execution_count": 14,
      "outputs": [
        {
          "output_type": "execute_result",
          "data": {
            "text/plain": [
              "5606.178032147653"
            ]
          },
          "metadata": {},
          "execution_count": 14
        }
      ]
    },
    {
      "cell_type": "code",
      "source": [
        "4999.170101054309+(linearRegression.coef_[0])*linRegData[\"Quantity\"][0]+(linearRegression.coef_[1])*(linRegData[\"Quantity\"][0])**2"
      ],
      "metadata": {
        "colab": {
          "base_uri": "https://localhost:8080/"
        },
        "id": "FZLP2aFngxSE",
        "outputId": "c276beec-a4b8-4e5f-ea7f-74599665d336"
      },
      "execution_count": 16,
      "outputs": [
        {
          "output_type": "execute_result",
          "data": {
            "text/plain": [
              "5398.832690497578"
            ]
          },
          "metadata": {},
          "execution_count": 16
        }
      ]
    },
    {
      "cell_type": "code",
      "source": [
        "4999.170101054309+(linearRegression.coef_[0])*linRegData[\"Quantity\"][0]+(linearRegression.coef_[1])*(linRegData[\"Quantity\"][0])**2"
      ],
      "metadata": {
        "id": "CuU4NkaphDtk"
      },
      "execution_count": null,
      "outputs": []
    },
    {
      "cell_type": "code",
      "source": [
        "T = 14\n",
        "a = linearRegression.intercept_\n",
        "b =  linearRegression.coef_[0]\n",
        "c =  linearRegression.coef_[1]\n",
        "a, b, c"
      ],
      "metadata": {
        "colab": {
          "base_uri": "https://localhost:8080/"
        },
        "id": "argEllwGhad2",
        "outputId": "45588ebf-5a13-4310-8909-ff15a6268491"
      },
      "execution_count": 17,
      "outputs": [
        {
          "output_type": "execute_result",
          "data": {
            "text/plain": [
              "(4999.170101054309, 0.09994159608950114, -3.99701728678897e-06)"
            ]
          },
          "metadata": {},
          "execution_count": 17
        }
      ]
    },
    {
      "cell_type": "code",
      "source": [
        "m = (-b -sqrt(b ** 2-(4 * a * c))) /( 2 * c)\n",
        "m"
      ],
      "metadata": {
        "colab": {
          "base_uri": "https://localhost:8080/"
        },
        "id": "39W3XB7lhf_6",
        "outputId": "44ea6bc3-c6d9-416e-febd-e5d6ea87186e"
      },
      "execution_count": 18,
      "outputs": [
        {
          "output_type": "execute_result",
          "data": {
            "text/plain": [
              "50012.36347728622"
            ]
          },
          "metadata": {},
          "execution_count": 18
        }
      ]
    },
    {
      "cell_type": "code",
      "source": [
        "p = a/m\n",
        "\n",
        "q = p + b\n",
        "\n",
        "print(\"p:\", p, \" q: \", q)"
      ],
      "metadata": {
        "colab": {
          "base_uri": "https://localhost:8080/"
        },
        "id": "VWyVL8Chhj8I",
        "outputId": "725931b8-a721-4079-ab28-21d6447acf4c"
      },
      "execution_count": 19,
      "outputs": [
        {
          "output_type": "stream",
          "name": "stdout",
          "text": [
            "p: 0.0999586852823852  q:  0.19990028137188634\n"
          ]
        }
      ]
    },
    {
      "cell_type": "code",
      "source": [
        "predictionQt2 = [0,]\n",
        "predictionN2 = [0,]\n",
        "\n",
        "for i in range(0,T):\n",
        "    N = predictionN2[i]\n",
        "    adoptationT = (p*m)+(q-p)*N + (-q/m) * N**2\n",
        "    adoptationT = round(adoptationT, 2)\n",
        "    predictionQt2.append(adoptationT)\n",
        "    predictionN2.append((predictionN2[i]+adoptationT))"
      ],
      "metadata": {
        "id": "Tqjtz3yGht81"
      },
      "execution_count": 20,
      "outputs": []
    },
    {
      "cell_type": "code",
      "source": [
        "bass_df = pd.DataFrame()\n",
        "bass_df[\"Prediction_Quantity\"]  = predictionQt2\n",
        "bass_df[\"Prediction_Total_Quantity\"]  = predictionN2\n",
        "\n",
        "df = bass_df.join(df, on=None, how='left')"
      ],
      "metadata": {
        "id": "O8Tb1xozhxlj"
      },
      "execution_count": 21,
      "outputs": []
    },
    {
      "cell_type": "code",
      "source": [
        "df"
      ],
      "metadata": {
        "colab": {
          "base_uri": "https://localhost:8080/",
          "height": 520
        },
        "id": "TKDzpTaDh-18",
        "outputId": "a826bd0b-8308-4f10-ac49-6a4fc8530f73"
      },
      "execution_count": 22,
      "outputs": [
        {
          "output_type": "execute_result",
          "data": {
            "text/html": [
              "\n",
              "  <div id=\"df-8b976fb9-f524-46e4-aac1-5b2c0ed299ff\">\n",
              "    <div class=\"colab-df-container\">\n",
              "      <div>\n",
              "<style scoped>\n",
              "    .dataframe tbody tr th:only-of-type {\n",
              "        vertical-align: middle;\n",
              "    }\n",
              "\n",
              "    .dataframe tbody tr th {\n",
              "        vertical-align: top;\n",
              "    }\n",
              "\n",
              "    .dataframe thead th {\n",
              "        text-align: right;\n",
              "    }\n",
              "</style>\n",
              "<table border=\"1\" class=\"dataframe\">\n",
              "  <thead>\n",
              "    <tr style=\"text-align: right;\">\n",
              "      <th></th>\n",
              "      <th>Prediction_Quantity</th>\n",
              "      <th>Prediction_Total_Quantity</th>\n",
              "      <th>時点</th>\n",
              "      <th>Quantity</th>\n",
              "      <th>Total_Quantity</th>\n",
              "      <th>Last_Total_Quantity</th>\n",
              "      <th>Last_Total_Quantity_sq</th>\n",
              "    </tr>\n",
              "  </thead>\n",
              "  <tbody>\n",
              "    <tr>\n",
              "      <th>0</th>\n",
              "      <td>0.00</td>\n",
              "      <td>0.00</td>\n",
              "      <td>1</td>\n",
              "      <td>4998</td>\n",
              "      <td>4998</td>\n",
              "      <td>0</td>\n",
              "      <td>0</td>\n",
              "    </tr>\n",
              "    <tr>\n",
              "      <th>1</th>\n",
              "      <td>4999.17</td>\n",
              "      <td>4999.17</td>\n",
              "      <td>2</td>\n",
              "      <td>5398</td>\n",
              "      <td>10396</td>\n",
              "      <td>4998</td>\n",
              "      <td>24980004</td>\n",
              "    </tr>\n",
              "    <tr>\n",
              "      <th>2</th>\n",
              "      <td>5398.90</td>\n",
              "      <td>10398.07</td>\n",
              "      <td>3</td>\n",
              "      <td>5611</td>\n",
              "      <td>16007</td>\n",
              "      <td>10396</td>\n",
              "      <td>108076816</td>\n",
              "    </tr>\n",
              "    <tr>\n",
              "      <th>3</th>\n",
              "      <td>5606.21</td>\n",
              "      <td>16004.28</td>\n",
              "      <td>4</td>\n",
              "      <td>5574</td>\n",
              "      <td>21581</td>\n",
              "      <td>16007</td>\n",
              "      <td>256224049</td>\n",
              "    </tr>\n",
              "    <tr>\n",
              "      <th>4</th>\n",
              "      <td>5574.88</td>\n",
              "      <td>21579.16</td>\n",
              "      <td>5</td>\n",
              "      <td>5292</td>\n",
              "      <td>26873</td>\n",
              "      <td>21581</td>\n",
              "      <td>465739561</td>\n",
              "    </tr>\n",
              "    <tr>\n",
              "      <th>5</th>\n",
              "      <td>5294.57</td>\n",
              "      <td>26873.73</td>\n",
              "      <td>6</td>\n",
              "      <td>4798</td>\n",
              "      <td>31671</td>\n",
              "      <td>26873</td>\n",
              "      <td>722158129</td>\n",
              "    </tr>\n",
              "    <tr>\n",
              "      <th>6</th>\n",
              "      <td>4798.34</td>\n",
              "      <td>31672.07</td>\n",
              "      <td>7</td>\n",
              "      <td>4157</td>\n",
              "      <td>35828</td>\n",
              "      <td>31671</td>\n",
              "      <td>1003052241</td>\n",
              "    </tr>\n",
              "    <tr>\n",
              "      <th>7</th>\n",
              "      <td>4155.04</td>\n",
              "      <td>35827.11</td>\n",
              "      <td>8</td>\n",
              "      <td>3445</td>\n",
              "      <td>39273</td>\n",
              "      <td>35828</td>\n",
              "      <td>1283645584</td>\n",
              "    </tr>\n",
              "    <tr>\n",
              "      <th>8</th>\n",
              "      <td>3449.29</td>\n",
              "      <td>39276.40</td>\n",
              "      <td>9</td>\n",
              "      <td>2762</td>\n",
              "      <td>42035</td>\n",
              "      <td>39273</td>\n",
              "      <td>1542368529</td>\n",
              "    </tr>\n",
              "    <tr>\n",
              "      <th>9</th>\n",
              "      <td>2758.58</td>\n",
              "      <td>42034.98</td>\n",
              "      <td>10</td>\n",
              "      <td>2141</td>\n",
              "      <td>44176</td>\n",
              "      <td>42035</td>\n",
              "      <td>1766941225</td>\n",
              "    </tr>\n",
              "    <tr>\n",
              "      <th>10</th>\n",
              "      <td>2137.73</td>\n",
              "      <td>44172.71</td>\n",
              "      <td>11</td>\n",
              "      <td>1609</td>\n",
              "      <td>45785</td>\n",
              "      <td>44176</td>\n",
              "      <td>1951518976</td>\n",
              "    </tr>\n",
              "    <tr>\n",
              "      <th>11</th>\n",
              "      <td>1614.77</td>\n",
              "      <td>45787.48</td>\n",
              "      <td>12</td>\n",
              "      <td>1199</td>\n",
              "      <td>46984</td>\n",
              "      <td>45785</td>\n",
              "      <td>2096266225</td>\n",
              "    </tr>\n",
              "    <tr>\n",
              "      <th>12</th>\n",
              "      <td>1195.52</td>\n",
              "      <td>46983.00</td>\n",
              "      <td>13</td>\n",
              "      <td>871</td>\n",
              "      <td>47855</td>\n",
              "      <td>46984</td>\n",
              "      <td>2207496256</td>\n",
              "    </tr>\n",
              "    <tr>\n",
              "      <th>13</th>\n",
              "      <td>871.70</td>\n",
              "      <td>47854.70</td>\n",
              "      <td>14</td>\n",
              "      <td>629</td>\n",
              "      <td>48484</td>\n",
              "      <td>47855</td>\n",
              "      <td>2290101025</td>\n",
              "    </tr>\n",
              "    <tr>\n",
              "      <th>14</th>\n",
              "      <td>628.39</td>\n",
              "      <td>48483.09</td>\n",
              "      <td>15</td>\n",
              "      <td>448</td>\n",
              "      <td>48932</td>\n",
              "      <td>48484</td>\n",
              "      <td>2350698256</td>\n",
              "    </tr>\n",
              "  </tbody>\n",
              "</table>\n",
              "</div>\n",
              "      <button class=\"colab-df-convert\" onclick=\"convertToInteractive('df-8b976fb9-f524-46e4-aac1-5b2c0ed299ff')\"\n",
              "              title=\"Convert this dataframe to an interactive table.\"\n",
              "              style=\"display:none;\">\n",
              "        \n",
              "  <svg xmlns=\"http://www.w3.org/2000/svg\" height=\"24px\"viewBox=\"0 0 24 24\"\n",
              "       width=\"24px\">\n",
              "    <path d=\"M0 0h24v24H0V0z\" fill=\"none\"/>\n",
              "    <path d=\"M18.56 5.44l.94 2.06.94-2.06 2.06-.94-2.06-.94-.94-2.06-.94 2.06-2.06.94zm-11 1L8.5 8.5l.94-2.06 2.06-.94-2.06-.94L8.5 2.5l-.94 2.06-2.06.94zm10 10l.94 2.06.94-2.06 2.06-.94-2.06-.94-.94-2.06-.94 2.06-2.06.94z\"/><path d=\"M17.41 7.96l-1.37-1.37c-.4-.4-.92-.59-1.43-.59-.52 0-1.04.2-1.43.59L10.3 9.45l-7.72 7.72c-.78.78-.78 2.05 0 2.83L4 21.41c.39.39.9.59 1.41.59.51 0 1.02-.2 1.41-.59l7.78-7.78 2.81-2.81c.8-.78.8-2.07 0-2.86zM5.41 20L4 18.59l7.72-7.72 1.47 1.35L5.41 20z\"/>\n",
              "  </svg>\n",
              "      </button>\n",
              "      \n",
              "  <style>\n",
              "    .colab-df-container {\n",
              "      display:flex;\n",
              "      flex-wrap:wrap;\n",
              "      gap: 12px;\n",
              "    }\n",
              "\n",
              "    .colab-df-convert {\n",
              "      background-color: #E8F0FE;\n",
              "      border: none;\n",
              "      border-radius: 50%;\n",
              "      cursor: pointer;\n",
              "      display: none;\n",
              "      fill: #1967D2;\n",
              "      height: 32px;\n",
              "      padding: 0 0 0 0;\n",
              "      width: 32px;\n",
              "    }\n",
              "\n",
              "    .colab-df-convert:hover {\n",
              "      background-color: #E2EBFA;\n",
              "      box-shadow: 0px 1px 2px rgba(60, 64, 67, 0.3), 0px 1px 3px 1px rgba(60, 64, 67, 0.15);\n",
              "      fill: #174EA6;\n",
              "    }\n",
              "\n",
              "    [theme=dark] .colab-df-convert {\n",
              "      background-color: #3B4455;\n",
              "      fill: #D2E3FC;\n",
              "    }\n",
              "\n",
              "    [theme=dark] .colab-df-convert:hover {\n",
              "      background-color: #434B5C;\n",
              "      box-shadow: 0px 1px 3px 1px rgba(0, 0, 0, 0.15);\n",
              "      filter: drop-shadow(0px 1px 2px rgba(0, 0, 0, 0.3));\n",
              "      fill: #FFFFFF;\n",
              "    }\n",
              "  </style>\n",
              "\n",
              "      <script>\n",
              "        const buttonEl =\n",
              "          document.querySelector('#df-8b976fb9-f524-46e4-aac1-5b2c0ed299ff button.colab-df-convert');\n",
              "        buttonEl.style.display =\n",
              "          google.colab.kernel.accessAllowed ? 'block' : 'none';\n",
              "\n",
              "        async function convertToInteractive(key) {\n",
              "          const element = document.querySelector('#df-8b976fb9-f524-46e4-aac1-5b2c0ed299ff');\n",
              "          const dataTable =\n",
              "            await google.colab.kernel.invokeFunction('convertToInteractive',\n",
              "                                                     [key], {});\n",
              "          if (!dataTable) return;\n",
              "\n",
              "          const docLinkHtml = 'Like what you see? Visit the ' +\n",
              "            '<a target=\"_blank\" href=https://colab.research.google.com/notebooks/data_table.ipynb>data table notebook</a>'\n",
              "            + ' to learn more about interactive tables.';\n",
              "          element.innerHTML = '';\n",
              "          dataTable['output_type'] = 'display_data';\n",
              "          await google.colab.output.renderOutput(dataTable, element);\n",
              "          const docLink = document.createElement('div');\n",
              "          docLink.innerHTML = docLinkHtml;\n",
              "          element.appendChild(docLink);\n",
              "        }\n",
              "      </script>\n",
              "    </div>\n",
              "  </div>\n",
              "  "
            ],
            "text/plain": [
              "    Prediction_Quantity  ...  Last_Total_Quantity_sq\n",
              "0                  0.00  ...                       0\n",
              "1               4999.17  ...                24980004\n",
              "2               5398.90  ...               108076816\n",
              "3               5606.21  ...               256224049\n",
              "4               5574.88  ...               465739561\n",
              "5               5294.57  ...               722158129\n",
              "6               4798.34  ...              1003052241\n",
              "7               4155.04  ...              1283645584\n",
              "8               3449.29  ...              1542368529\n",
              "9               2758.58  ...              1766941225\n",
              "10              2137.73  ...              1951518976\n",
              "11              1614.77  ...              2096266225\n",
              "12              1195.52  ...              2207496256\n",
              "13               871.70  ...              2290101025\n",
              "14               628.39  ...              2350698256\n",
              "\n",
              "[15 rows x 7 columns]"
            ]
          },
          "metadata": {},
          "execution_count": 22
        }
      ]
    },
    {
      "cell_type": "code",
      "source": [
        "plt.figure(figsize = (12,6))\n",
        "df[\"Prediction_Quantity\"].plot(color =\"orange\")\n",
        "df[\"Quantity\"].plot(alpha = 0.5)\n",
        "plt.title(\"Bass Model(Quantity)\")\n",
        "plt.legend()\n",
        "plt.figure()"
      ],
      "metadata": {
        "colab": {
          "base_uri": "https://localhost:8080/",
          "height": 425
        },
        "id": "n_d4fhTiiFKd",
        "outputId": "7ad0869e-86f2-450e-dc4a-5afef992654f"
      },
      "execution_count": 23,
      "outputs": [
        {
          "output_type": "execute_result",
          "data": {
            "text/plain": [
              "<Figure size 432x288 with 0 Axes>"
            ]
          },
          "metadata": {},
          "execution_count": 23
        },
        {
          "output_type": "display_data",
          "data": {
            "image/png": "[encoded data removed]",
            "text/plain": [
              "<Figure size 864x432 with 1 Axes>"
            ]
          },
          "metadata": {
            "needs_background": "light"
          }
        },
        {
          "output_type": "display_data",
          "data": {
            "text/plain": [
              "<Figure size 432x288 with 0 Axes>"
            ]
          },
          "metadata": {}
        }
      ]
    },
    {
      "cell_type": "code",
      "source": [
        "plt.figure(figsize = (12,6))\n",
        "df[\"Prediction_Total_Quantity\"].plot(color =\"orange\")\n",
        "df[\"Total_Quantity\"].plot(alpha = 0.5)\n",
        "plt.title(\"Bass Model(Total_Quantity)\")\n",
        "plt.legend()\n",
        "plt.figure()"
      ],
      "metadata": {
        "colab": {
          "base_uri": "https://localhost:8080/",
          "height": 425
        },
        "id": "x8HrNn9IiIpA",
        "outputId": "53005546-d482-431f-bbad-d83cf23929ca"
      },
      "execution_count": 24,
      "outputs": [
        {
          "output_type": "execute_result",
          "data": {
            "text/plain": [
              "<Figure size 432x288 with 0 Axes>"
            ]
          },
          "metadata": {},
          "execution_count": 24
        },
        {
          "output_type": "display_data",
          "data": {
            "image/png": "[encoded data removed]",
            "text/plain": [
              "<Figure size 864x432 with 1 Axes>"
            ]
          },
          "metadata": {
            "needs_background": "light"
          }
        },
        {
          "output_type": "display_data",
          "data": {
            "text/plain": [
              "<Figure size 432x288 with 0 Axes>"
            ]
          },
          "metadata": {}
        }
      ]
    }
  ]
}